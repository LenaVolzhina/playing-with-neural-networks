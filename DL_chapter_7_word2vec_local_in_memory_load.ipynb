{
 "cells": [
  {
   "cell_type": "markdown",
   "metadata": {},
   "source": [
    "# Локально лежат готовые модели, хочу из загрузить"
   ]
  },
  {
   "cell_type": "code",
   "execution_count": 1,
   "metadata": {},
   "outputs": [],
   "source": [
    "import gensim"
   ]
  },
  {
   "cell_type": "code",
   "execution_count": 2,
   "metadata": {},
   "outputs": [],
   "source": [
    "model_500_200 = gensim.models.Word2Vec.load('DL_chapter_7_word2vec_model_size_500_percent_100_epochs_200')"
   ]
  },
  {
   "cell_type": "markdown",
   "metadata": {},
   "source": [
    "Проверяю, что ответы сходятся"
   ]
  },
  {
   "cell_type": "code",
   "execution_count": 3,
   "metadata": {},
   "outputs": [
    {
     "data": {
      "text/plain": [
       "[('актриса', 0.6711472868919373),\n",
       " ('ведущая_актриса', 0.566205620765686),\n",
       " ('актер', 0.5578432679176331),\n",
       " ('сценарист_режиссёр', 0.5533250570297241),\n",
       " ('киноактриса', 0.5437122583389282),\n",
       " ('благодаря_ролям', 0.5435642004013062),\n",
       " ('снимавшаяся', 0.5400126576423645),\n",
       " ('балерина', 0.5322019457817078),\n",
       " ('театра_кино', 0.527100682258606),\n",
       " ('танцовщица', 0.5250095725059509)]"
      ]
     },
     "execution_count": 3,
     "metadata": {},
     "output_type": "execute_result"
    }
   ],
   "source": [
    "model_500_200.wv.most_similar(\n",
    "  ['актёр', 'женщина'],\n",
    "  ['мужчина']\n",
    ")"
   ]
  },
  {
   "cell_type": "code",
   "execution_count": 4,
   "metadata": {},
   "outputs": [
    {
     "data": {
      "text/plain": [
       "[('агата_кристи', 0.84107905626297),\n",
       " ('чайф', 0.8366405963897705),\n",
       " ('наутилус_помпилиус', 0.8267172574996948),\n",
       " ('наив', 0.8230922222137451),\n",
       " ('король_шут', 0.821985125541687),\n",
       " ('мумий_тролль', 0.821345865726471),\n",
       " ('animal_джаz', 0.8113284707069397),\n",
       " ('весёлые_ребята', 0.8061252236366272),\n",
       " ('сплин', 0.8030151724815369),\n",
       " ('любэ', 0.8004089593887329)]"
      ]
     },
     "execution_count": 4,
     "metadata": {},
     "output_type": "execute_result"
    }
   ],
   "source": [
    "model_500_200.wv.most_similar(\n",
    "  ['машина_времени']\n",
    ")"
   ]
  },
  {
   "cell_type": "code",
   "execution_count": null,
   "metadata": {},
   "outputs": [],
   "source": []
  }
 ],
 "metadata": {
  "kernelspec": {
   "display_name": "Python 3",
   "language": "python",
   "name": "python3"
  },
  "language_info": {
   "codemirror_mode": {
    "name": "ipython",
    "version": 3
   },
   "file_extension": ".py",
   "mimetype": "text/x-python",
   "name": "python",
   "nbconvert_exporter": "python",
   "pygments_lexer": "ipython3",
   "version": "3.7.4"
  }
 },
 "nbformat": 4,
 "nbformat_minor": 2
}
