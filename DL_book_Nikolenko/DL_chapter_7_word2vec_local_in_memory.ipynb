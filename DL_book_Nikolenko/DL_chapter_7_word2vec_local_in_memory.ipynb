{
 "cells": [
  {
   "cell_type": "markdown",
   "metadata": {},
   "source": [
    "# Установка gensim на воркер\n",
    "\n",
    "Установка conda:\n",
    "* `https://repo.anaconda.com/archive/Anaconda3-2019.10-Linux-x86_64.sh`\n",
    "* `chmod +x Anaconda3-2019.10-Linux-x86_64.sh`\n",
    "* `./Anaconda3-2019.10-Linux-x86_64.sh`  (если случайно запустить с sudo, то потом [поменять владельца](https://github.com/conda/conda/issues/7267#issuecomment-498651734))\n",
    "* отключить авто-init: `conda config --set auto_activate_base false`\n",
    "\n",
    "Gensim:\n",
    "* `conda install gensim`\n",
    "\n",
    "Jupyter:\n",
    "* `conda install ipykernel`\n",
    "* запуск сервера: `jupyter notebook --no-browser --port=8888 --ip='::'`\n",
    "* выбрать кернел\n",
    "\n"
   ]
  },
  {
   "cell_type": "code",
   "execution_count": 1,
   "metadata": {},
   "outputs": [],
   "source": [
    "import gensim"
   ]
  },
  {
   "cell_type": "markdown",
   "metadata": {
    "colab_type": "text",
    "id": "YoJl7AAyziw7"
   },
   "source": [
    "# Качаем данные с википедии"
   ]
  },
  {
   "cell_type": "code",
   "execution_count": 2,
   "metadata": {
    "colab": {
     "base_uri": "https://localhost:8080/",
     "height": 204
    },
    "colab_type": "code",
    "id": "dtiU0zlMxl8W",
    "outputId": "21fead8c-fd5f-456a-d5e5-801eb6b0834f"
   },
   "outputs": [
    {
     "name": "stdout",
     "output_type": "stream",
     "text": [
      "--2019-12-25 12:51:41--  https://dumps.wikimedia.org/ruwiki/20191220/ruwiki-20191220-pages-articles-multistream.xml.bz2\n",
      "Resolving dumps.wikimedia.org (dumps.wikimedia.org)... 2620:0:861:1:208:80:154:7\n",
      "Connecting to dumps.wikimedia.org (dumps.wikimedia.org)|2620:0:861:1:208:80:154:7|:443... connected.\n",
      "HTTP request sent, awaiting response... 200 OK\n",
      "Length: 3992310344 (3,7G) [application/octet-stream]\n",
      "Saving to: `ruwiki-20191220-pages-articles-multistream.xml.bz2'\n",
      "\n",
      "100%[====================================>] 3 992 310 344 4,88M/s   in 12m 50s \n",
      "\n",
      "2019-12-25 13:04:33 (4,94 MB/s) - `ruwiki-20191220-pages-articles-multistream.xml.bz2' saved [3992310344/3992310344]\n",
      "\n"
     ]
    }
   ],
   "source": [
    "# https://dumps.wikimedia.org/ruwiki/20191220/\n",
    "!wget https://dumps.wikimedia.org/ruwiki/20191220/ruwiki-20191220-pages-articles-multistream.xml.bz2"
   ]
  },
  {
   "cell_type": "code",
   "execution_count": 1,
   "metadata": {
    "colab": {},
    "colab_type": "code",
    "id": "zwa5fBr36JvH"
   },
   "outputs": [],
   "source": [
    "from datetime import datetime\n",
    "\n",
    "log_filename = 'DL_chapter_7_word2vec_in_memory.log'\n",
    "\n",
    "def log(msg):\n",
    "    msg = '[{}] {}'.format(datetime.now(), msg)\n",
    "    print(msg)\n",
    "    with open(log_filename, 'a') as fout:\n",
    "        fout.write(msg + '\\n')"
   ]
  },
  {
   "cell_type": "markdown",
   "metadata": {
    "colab_type": "text",
    "id": "R4n1TsOozIBE"
   },
   "source": [
    "# Загрузка и предобработка данных\n",
    "\n",
    "*Токенизация*: разбиение потока символов на слова (+ очистка от лишних символов)\n",
    "\n",
    "*Лемматизация*: приведение слов к начальным формам. Мы не будем делать, т.к. во-первых хотим посмотреть на всякие эффекты, а во-вторых, у нас и так достаточно данных"
   ]
  },
  {
   "cell_type": "code",
   "execution_count": 2,
   "metadata": {
    "colab": {},
    "colab_type": "code",
    "id": "8TYyxg6Svtr_"
   },
   "outputs": [],
   "source": [
    "from gensim.corpora.wikicorpus import WikiCorpus\n",
    "\n",
    "wiki = WikiCorpus('ruwiki-20191220-pages-articles-multistream.xml.bz2', dictionary=False)"
   ]
  },
  {
   "cell_type": "markdown",
   "metadata": {
    "colab_type": "text",
    "id": "joBSp1VozrCo"
   },
   "source": [
    "Данные не читаются с диска в память, а благодаря dictionary=False не строится и словарь\n",
    "\n",
    "*Биграмма* — это пара слов `(w1,w2)`, которые вместе встречаются аномально часто, то есть совместная вероятность их появления `p(w1,w2)`\n",
    "в тексте существенно выше, чем `p(w1)p(w2)`\n",
    "\n",
    "Есть разные алгоритмы выделения биграмм, но в Gensim уже есть реализация"
   ]
  },
  {
   "cell_type": "code",
   "execution_count": 3,
   "metadata": {
    "colab": {},
    "colab_type": "code",
    "id": "djk7_3dJZUUA"
   },
   "outputs": [
    {
     "name": "stdout",
     "output_type": "stream",
     "text": [
      "[2019-12-25 16:12:57.572576] Started loading texts\n",
      "[2019-12-25 16:41:07.762148] Started loading texts\n"
     ]
    }
   ],
   "source": [
    "def get_texts_step(step=100):\n",
    "    # get every [step]th text\n",
    "    for i, text in enumerate(wiki.get_texts()):\n",
    "        if i % step == 0:\n",
    "            yield text\n",
    "\n",
    "log(\"Started loading texts\")\n",
    "all_texts = list(wiki.get_texts())\n",
    "log(\"Started loading texts\")\n",
    "\n",
    "\n",
    "def get_texts():\n",
    "    # get texts from memory\n",
    "    for text in all_texts:\n",
    "        yield text"
   ]
  },
  {
   "cell_type": "code",
   "execution_count": 4,
   "metadata": {
    "colab": {
     "base_uri": "https://localhost:8080/",
     "height": 51
    },
    "colab_type": "code",
    "id": "CPNDdCVv0NRu",
    "outputId": "396e20f0-2492-4856-f3dc-fcf9f11a2a21"
   },
   "outputs": [
    {
     "name": "stdout",
     "output_type": "stream",
     "text": [
      "[2019-12-25 16:57:19.300192] Started building bigrams\n",
      "[2019-12-25 17:31:09.662020] Finished building bigrams\n"
     ]
    }
   ],
   "source": [
    "from gensim.models.phrases import Phrases, Phraser\n",
    "\n",
    "# генератор биграм\n",
    "\n",
    "log(\"Started building bigrams\")\n",
    "bigram = Phrases(get_texts())\n",
    "bigram_transformer = Phraser(bigram)\n",
    "log(\"Finished building bigrams\")\n",
    "\n",
    "\n",
    "def text_generator_bigram():\n",
    "    for text in get_texts():\n",
    "        yield bigram_transformer[ [ word for word in text ] ]   # .decode('utf-8')"
   ]
  },
  {
   "cell_type": "code",
   "execution_count": 5,
   "metadata": {
    "colab": {
     "base_uri": "https://localhost:8080/",
     "height": 34
    },
    "colab_type": "code",
    "id": "1HWknjFQ0Xnn",
    "outputId": "d1b49c69-26b8-4146-f5f5-8193cb08d080"
   },
   "outputs": [
    {
     "name": "stdout",
     "output_type": "stream",
     "text": [
      "[2019-12-25 17:31:09.669413] Started building trigrams\n",
      "[2019-12-25 18:29:54.008252] Finished building trigrams\n"
     ]
    }
   ],
   "source": [
    "# генератор триграм\n",
    "\n",
    "log(\"Started building trigrams\")\n",
    "trigram = Phrases(text_generator_bigram())\n",
    "trigram_transformer = Phraser(trigram)\n",
    "log(\"Finished building trigrams\")\n",
    "\n",
    "def text_generator_trigram():\n",
    "    for text in get_texts():\n",
    "        yield trigram_transformer[ bigram_transformer[ [ word for word in text ] ] ]   # .decode('utf-8')"
   ]
  },
  {
   "cell_type": "markdown",
   "metadata": {
    "colab_type": "text",
    "id": "AgGknRcN1AfA"
   },
   "source": [
    "# Обучаем word2vec на последовательности триграмм"
   ]
  },
  {
   "cell_type": "markdown",
   "metadata": {},
   "source": [
    "## Обучаю модель size=100, epochs=25"
   ]
  },
  {
   "cell_type": "code",
   "execution_count": 6,
   "metadata": {
    "colab": {},
    "colab_type": "code",
    "id": "AwPqugTDAEd9"
   },
   "outputs": [
    {
     "name": "stdout",
     "output_type": "stream",
     "text": [
      "[2019-12-25 18:29:54.014886] Started counting examples\n",
      "[2019-12-25 19:26:06.959298] Finished counting examples, result: 1331252\n"
     ]
    }
   ],
   "source": [
    "log(\"Started counting examples\")\n",
    "total_examples = 0\n",
    "for trigram in text_generator_trigram():\n",
    "    total_examples += 1\n",
    "log(\"Finished counting examples, result: {}\".format(total_examples))"
   ]
  },
  {
   "cell_type": "code",
   "execution_count": 7,
   "metadata": {
    "colab": {},
    "colab_type": "code",
    "id": "VDHdLY_F0Xkw"
   },
   "outputs": [
    {
     "name": "stdout",
     "output_type": "stream",
     "text": [
      "[2019-12-25 19:26:06.966888] Started building vocab\n",
      "[2019-12-25 20:37:31.822850] Finished building vocab\n"
     ]
    }
   ],
   "source": [
    "from gensim.models.word2vec import Word2Vec\n",
    "\n",
    "model_100 = Word2Vec(size=100, window=7, min_count=10, workers=32)\n",
    "\n",
    "log(\"Started building vocab\")\n",
    "model_100.build_vocab( text_generator_trigram() )\n",
    "log(\"Finished building vocab\")"
   ]
  },
  {
   "cell_type": "code",
   "execution_count": 8,
   "metadata": {},
   "outputs": [
    {
     "name": "stdout",
     "output_type": "stream",
     "text": [
      "[2019-12-25 20:37:31.828769] Started training\n",
      "[2019-12-25 21:39:03.319412] Finished training\n"
     ]
    }
   ],
   "source": [
    "log(\"Started training\")\n",
    "model_100.train( text_generator_trigram(), total_examples=total_examples, epochs=25 )\n",
    "log(\"Finished training\")"
   ]
  },
  {
   "cell_type": "code",
   "execution_count": 9,
   "metadata": {},
   "outputs": [],
   "source": [
    "model_100.save('DL_chapter_7_word2vec_model_size_100_percent_100_epochs_25')"
   ]
  },
  {
   "cell_type": "markdown",
   "metadata": {
    "colab_type": "text",
    "id": "DvBbQTue1Xct"
   },
   "source": [
    "* size -- размерность вектора представления\n",
    "* window -- размер окна локального контекста\n",
    "* min_count -- минимальная частота встречаемости, чтобы мы рассматривали слово\n",
    "* workers -- параллелизация"
   ]
  },
  {
   "cell_type": "markdown",
   "metadata": {},
   "source": [
    "## Обучаю модель size=500, epochs=25"
   ]
  },
  {
   "cell_type": "code",
   "execution_count": 10,
   "metadata": {
    "colab": {},
    "colab_type": "code",
    "id": "VDHdLY_F0Xkw"
   },
   "outputs": [
    {
     "name": "stdout",
     "output_type": "stream",
     "text": [
      "[2019-12-25 21:39:12.828759] Started building vocab\n",
      "[2019-12-25 22:48:20.032481] Finished building vocab\n"
     ]
    }
   ],
   "source": [
    "model_500 = Word2Vec(size=500, window=7, min_count=10, workers=32)\n",
    "\n",
    "log(\"Started building vocab\")\n",
    "model_500.build_vocab( text_generator_trigram() )\n",
    "log(\"Finished building vocab\")"
   ]
  },
  {
   "cell_type": "code",
   "execution_count": 11,
   "metadata": {},
   "outputs": [
    {
     "name": "stdout",
     "output_type": "stream",
     "text": [
      "[2019-12-25 22:48:20.039712] Started training\n",
      "[2019-12-25 23:50:28.923686] Finished training\n"
     ]
    }
   ],
   "source": [
    "log(\"Started training\")\n",
    "model_500.train( text_generator_trigram(), total_examples=total_examples, epochs=25 )\n",
    "log(\"Finished training\")"
   ]
  },
  {
   "cell_type": "code",
   "execution_count": 12,
   "metadata": {},
   "outputs": [],
   "source": [
    "model_500.save('DL_chapter_7_word2vec_model_size_500_percent_100_epochs_25')"
   ]
  },
  {
   "cell_type": "markdown",
   "metadata": {},
   "source": [
    "## Обучаю модель size=500, epochs=200"
   ]
  },
  {
   "cell_type": "code",
   "execution_count": 13,
   "metadata": {
    "colab": {},
    "colab_type": "code",
    "id": "VDHdLY_F0Xkw"
   },
   "outputs": [
    {
     "name": "stdout",
     "output_type": "stream",
     "text": [
      "[2019-12-25 23:50:49.341133] Started building vocab\n",
      "[2019-12-26 00:59:23.792330] Finished building vocab\n"
     ]
    }
   ],
   "source": [
    "model_500_200 = Word2Vec(size=500, window=7, min_count=10, workers=32)\n",
    "\n",
    "log(\"Started building vocab\")\n",
    "model_500_200.build_vocab( text_generator_trigram() )\n",
    "log(\"Finished building vocab\")"
   ]
  },
  {
   "cell_type": "code",
   "execution_count": 14,
   "metadata": {},
   "outputs": [
    {
     "name": "stdout",
     "output_type": "stream",
     "text": [
      "[2019-12-26 00:59:23.830482] Started training\n",
      "[2019-12-26 02:01:54.071193] Finished training\n"
     ]
    }
   ],
   "source": [
    "log(\"Started training\")\n",
    "model_500_200.train( text_generator_trigram(), total_examples=total_examples, epochs=200 )\n",
    "log(\"Finished training\")"
   ]
  },
  {
   "cell_type": "code",
   "execution_count": 15,
   "metadata": {},
   "outputs": [],
   "source": [
    "model_500_200.save('DL_chapter_7_word2vec_model_size_500_percent_100_epochs_200')"
   ]
  },
  {
   "cell_type": "code",
   "execution_count": null,
   "metadata": {
    "colab": {},
    "colab_type": "code",
    "id": "AtXoUVsh0Xhu"
   },
   "outputs": [],
   "source": []
  },
  {
   "cell_type": "code",
   "execution_count": 16,
   "metadata": {},
   "outputs": [
    {
     "data": {
      "text/plain": [
       "[('актриса', 0.6711472868919373),\n",
       " ('ведущая_актриса', 0.5662055611610413),\n",
       " ('актер', 0.5578432679176331),\n",
       " ('сценарист_режиссёр', 0.5533250570297241),\n",
       " ('киноактриса', 0.5437122583389282),\n",
       " ('благодаря_ролям', 0.5435642600059509),\n",
       " ('снимавшаяся', 0.5400126576423645),\n",
       " ('балерина', 0.5322019457817078),\n",
       " ('театра_кино', 0.527100682258606),\n",
       " ('танцовщица', 0.5250095725059509)]"
      ]
     },
     "execution_count": 16,
     "metadata": {},
     "output_type": "execute_result"
    }
   ],
   "source": [
    "model_500_200.wv.most_similar(\n",
    "  ['актёр', 'женщина'],\n",
    "  ['мужчина']\n",
    ")"
   ]
  },
  {
   "cell_type": "code",
   "execution_count": 17,
   "metadata": {
    "colab": {},
    "colab_type": "code",
    "id": "_ULQKs4a0Xei"
   },
   "outputs": [
    {
     "data": {
      "text/plain": [
       "[('доктор_философии', 0.6313427686691284),\n",
       " ('итальянский_физик', 0.6195719242095947),\n",
       " ('учёная', 0.6180987358093262),\n",
       " ('немецкий_философ', 0.6100102663040161),\n",
       " ('немецкий_математик', 0.6081817746162415),\n",
       " ('филолог', 0.6068433523178101),\n",
       " ('физиолог', 0.6051205396652222),\n",
       " ('лингвист', 0.6050077676773071),\n",
       " ('доктор_филологических_наук', 0.6020523309707642),\n",
       " ('американский_математик', 0.5991174578666687)]"
      ]
     },
     "execution_count": 17,
     "metadata": {},
     "output_type": "execute_result"
    }
   ],
   "source": [
    "model_500_200.wv.most_similar(\n",
    "  ['математик', 'женщина'],\n",
    "  ['мужчина']\n",
    ")"
   ]
  },
  {
   "cell_type": "code",
   "execution_count": 19,
   "metadata": {
    "colab": {},
    "colab_type": "code",
    "id": "rIbSOgiM0Xbp"
   },
   "outputs": [
    {
     "data": {
      "text/plain": [
       "[('малыша', 0.5166980624198914),\n",
       " ('стьюи', 0.5018874406814575),\n",
       " ('картман', 0.5018465518951416),\n",
       " ('мальчика', 0.5016962885856628),\n",
       " ('гомер', 0.49474072456359863),\n",
       " ('перед_телевизором', 0.4932996928691864),\n",
       " ('мальчиком', 0.4908002018928528),\n",
       " ('куклу', 0.4742394685745239),\n",
       " ('гулять', 0.4728545546531677),\n",
       " ('каждое_утро', 0.4712660312652588)]"
      ]
     },
     "execution_count": 19,
     "metadata": {},
     "output_type": "execute_result"
    }
   ],
   "source": [
    "model_500_200.wv.most_similar(\n",
    "  ['математики', 'мальчик'],\n",
    "  ['математик']\n",
    ")"
   ]
  },
  {
   "cell_type": "code",
   "execution_count": 22,
   "metadata": {
    "colab": {},
    "colab_type": "code",
    "id": "v6oAU_p_0XZJ"
   },
   "outputs": [
    {
     "data": {
      "text/plain": [
       "[('маленькая_девочка', 0.7352694869041443),\n",
       " ('блондинка', 0.7277578115463257),\n",
       " ('птичка', 0.7274823188781738),\n",
       " ('собачка', 0.7228641510009766),\n",
       " ('лягушка', 0.72053062915802),\n",
       " ('красивая_женщина', 0.7199786305427551),\n",
       " ('молодая_девушка', 0.7133882641792297),\n",
       " ('красивая', 0.7090722322463989),\n",
       " ('волшебница', 0.7085510492324829),\n",
       " ('мёртвая', 0.7060226202011108)]"
      ]
     },
     "execution_count": 22,
     "metadata": {},
     "output_type": "execute_result"
    }
   ],
   "source": [
    "model_500_200.wv.most_similar(\n",
    "  ['львица', 'кошка'],\n",
    "  ['лев']\n",
    ")"
   ]
  },
  {
   "cell_type": "code",
   "execution_count": 23,
   "metadata": {
    "colab": {},
    "colab_type": "code",
    "id": "-6w1jbs50XWQ"
   },
   "outputs": [
    {
     "data": {
      "text/plain": [
       "[('агата_кристи', 0.84107905626297),\n",
       " ('чайф', 0.8366405963897705),\n",
       " ('наутилус_помпилиус', 0.8267172574996948),\n",
       " ('наив', 0.8230922222137451),\n",
       " ('король_шут', 0.821985125541687),\n",
       " ('мумий_тролль', 0.821345865726471),\n",
       " ('animal_джаz', 0.8113285303115845),\n",
       " ('весёлые_ребята', 0.8061252236366272),\n",
       " ('сплин', 0.8030151724815369),\n",
       " ('любэ', 0.8004089593887329)]"
      ]
     },
     "execution_count": 23,
     "metadata": {},
     "output_type": "execute_result"
    }
   ],
   "source": [
    "model_500_200.wv.most_similar(\n",
    "  ['машина_времени']\n",
    ")"
   ]
  },
  {
   "cell_type": "code",
   "execution_count": 26,
   "metadata": {
    "colab": {},
    "colab_type": "code",
    "id": "KJe-kvva0XPD"
   },
   "outputs": [
    {
     "data": {
      "text/plain": [
       "[('искусственные_нейронные_сети', 0.8848088383674622),\n",
       " ('тестирование_программного_обеспечения', 0.8839117884635925),\n",
       " ('параллельные_вычисления', 0.8781010508537292),\n",
       " ('обработка_естественного_языка', 0.8728587627410889),\n",
       " ('эконометрика', 0.8694239854812622),\n",
       " ('биоинформатика', 0.8652983903884888),\n",
       " ('теория_алгоритмов', 0.8634968996047974),\n",
       " ('теория_принятия_решений', 0.852242112159729),\n",
       " ('статьи_примерами_кода', 0.8514398336410522),\n",
       " ('объектно_ориентированное', 0.8513944745063782)]"
      ]
     },
     "execution_count": 26,
     "metadata": {},
     "output_type": "execute_result"
    }
   ],
   "source": [
    "model_500_200.wv.most_similar(\n",
    "  ['машинное_обучение']\n",
    ")"
   ]
  },
  {
   "cell_type": "code",
   "execution_count": 27,
   "metadata": {},
   "outputs": [
    {
     "data": {
      "text/plain": [
       "[('mail_ru', 0.8292312622070312),\n",
       " ('рамблер', 0.8027689456939697),\n",
       " ('яндекса', 0.7869933843612671),\n",
       " ('сервис', 0.7727541923522949),\n",
       " ('google', 0.7727051973342896),\n",
       " ('мобильное_приложение', 0.7631986141204834),\n",
       " ('сервиса', 0.7597266435623169),\n",
       " ('сети_интернет', 0.7447307705879211),\n",
       " ('cnews', 0.7446727752685547),\n",
       " ('icq', 0.7443001866340637)]"
      ]
     },
     "execution_count": 27,
     "metadata": {},
     "output_type": "execute_result"
    }
   ],
   "source": [
    "model_500_200.wv.most_similar(\n",
    "  ['яндекс']\n",
    ")"
   ]
  },
  {
   "cell_type": "code",
   "execution_count": 28,
   "metadata": {},
   "outputs": [
    {
     "data": {
      "text/plain": [
       "[('mail_ru', 0.8767240643501282),\n",
       " ('яндекса', 0.8632349967956543),\n",
       " ('google', 0.8461947441101074),\n",
       " ('сервис', 0.8348525762557983),\n",
       " ('веб', 0.8075309991836548),\n",
       " ('сети_интернет', 0.8010289072990417),\n",
       " ('сервиса', 0.7911575436592102),\n",
       " ('онлайн', 0.7875292897224426),\n",
       " ('мобильное_приложение', 0.7864222526550293),\n",
       " ('мобильного_приложения', 0.7859923243522644)]"
      ]
     },
     "execution_count": 28,
     "metadata": {},
     "output_type": "execute_result"
    }
   ],
   "source": [
    "model_100.wv.most_similar(\n",
    "  ['яндекс']\n",
    ")"
   ]
  },
  {
   "cell_type": "code",
   "execution_count": 29,
   "metadata": {},
   "outputs": [
    {
     "data": {
      "text/plain": [
       "[('mail_ru', 0.8320544958114624),\n",
       " ('яндекса', 0.8221307992935181),\n",
       " ('google', 0.7737005949020386),\n",
       " ('сервис', 0.7698644399642944),\n",
       " ('сервиса', 0.7655315399169922),\n",
       " ('хостинга', 0.7606269121170044),\n",
       " ('хостинг', 0.7500610947608948),\n",
       " ('мобильное_приложение', 0.7489928603172302),\n",
       " ('icq', 0.7475957870483398),\n",
       " ('открытый_доступ', 0.7470940351486206)]"
      ]
     },
     "execution_count": 29,
     "metadata": {},
     "output_type": "execute_result"
    }
   ],
   "source": [
    "model_500.wv.most_similar(\n",
    "  ['яндекс']\n",
    ")"
   ]
  },
  {
   "cell_type": "code",
   "execution_count": 30,
   "metadata": {},
   "outputs": [
    {
     "data": {
      "text/plain": [
       "[('немало', 0.7261830568313599),\n",
       " ('большое_количество', 0.6664397716522217),\n",
       " ('множество', 0.6199277639389038),\n",
       " ('огромное_количество', 0.6102041006088257),\n",
       " ('большое_число', 0.5960496664047241),\n",
       " ('много_хороших', 0.57206130027771),\n",
       " ('значительное_количество', 0.5666031837463379),\n",
       " ('несколько', 0.5474859476089478),\n",
       " ('целый_ряд', 0.541946291923523),\n",
       " ('много_интересных', 0.5414936542510986)]"
      ]
     },
     "execution_count": 30,
     "metadata": {},
     "output_type": "execute_result"
    }
   ],
   "source": [
    "model_500_200.wv.most_similar(\n",
    "  ['много']\n",
    ")"
   ]
  },
  {
   "cell_type": "code",
   "execution_count": 31,
   "metadata": {},
   "outputs": [
    {
     "data": {
      "text/plain": [
       "[('сексизм', 0.5492262840270996),\n",
       " ('зоофилию', 0.5465393662452698),\n",
       " ('бюрократизм', 0.5432154536247253),\n",
       " ('японский_национализм', 0.5407375693321228),\n",
       " ('шовинизм', 0.5390805006027222),\n",
       " ('вуайеризм', 0.5389503240585327),\n",
       " ('манию', 0.5375597476959229),\n",
       " ('субкультуру', 0.5363483428955078),\n",
       " ('садизм', 0.5327458381652832),\n",
       " ('маскулизм', 0.5308481454849243)]"
      ]
     },
     "execution_count": 31,
     "metadata": {},
     "output_type": "execute_result"
    }
   ],
   "source": [
    "model_500_200.wv.most_similar(\n",
    "  ['френдзона']\n",
    ")"
   ]
  },
  {
   "cell_type": "code",
   "execution_count": 33,
   "metadata": {},
   "outputs": [
    {
     "data": {
      "text/plain": [
       "[('альфа_групп', 0.7112696170806885),\n",
       " ('retail_group', 0.7049852609634399),\n",
       " ('виктор_вексельберг', 0.7047931551933289),\n",
       " ('газпромбанк', 0.704300045967102),\n",
       " ('алишер_усманов', 0.7005768418312073),\n",
       " ('московский_кредитный_банк', 0.7000415325164795),\n",
       " ('роснано', 0.6892472505569458),\n",
       " ('владимир_потанин', 0.6842904090881348),\n",
       " ('сибирский_деловой_союз', 0.6832914352416992),\n",
       " ('интеррос', 0.6813831925392151)]"
      ]
     },
     "execution_count": 33,
     "metadata": {},
     "output_type": "execute_result"
    }
   ],
   "source": [
    "model_500_200.wv.most_similar(\n",
    "  ['аркадий_волож']\n",
    ")"
   ]
  },
  {
   "cell_type": "code",
   "execution_count": 34,
   "metadata": {},
   "outputs": [
    {
     "data": {
      "text/plain": [
       "[('аркадий_волож', 0.6262919902801514),\n",
       " ('виталий_геннадьевич', 0.6228498220443726),\n",
       " ('владимир_потанин', 0.6207123398780823),\n",
       " ('клишин', 0.6134703159332275),\n",
       " ('александр_несис', 0.6128029227256775),\n",
       " ('эдуард_сагалаев', 0.6087579727172852),\n",
       " ('аналитическая_программа_рунетология', 0.6080464124679565),\n",
       " ('иосиф_бакштейн', 0.6072640419006348),\n",
       " ('петр_авен', 0.6071577668190002),\n",
       " ('ашурков', 0.6059235334396362)]"
      ]
     },
     "execution_count": 34,
     "metadata": {},
     "output_type": "execute_result"
    }
   ],
   "source": [
    "model_500_200.wv.most_similar(\n",
    "  ['илья_сегалович']\n",
    ")"
   ]
  },
  {
   "cell_type": "code",
   "execution_count": 39,
   "metadata": {},
   "outputs": [
    {
     "data": {
      "text/plain": [
       "[('более_ста', 0.34239163994789124),\n",
       " ('девять', 0.33672934770584106),\n",
       " ('ряде_других', 0.32871773838996887),\n",
       " ('семь', 0.3239850699901581),\n",
       " ('шесть', 0.32239317893981934),\n",
       " ('обеих', 0.32094478607177734),\n",
       " ('десять_тысяч', 0.3130486309528351),\n",
       " ('десять', 0.304669052362442),\n",
       " ('тринадцать', 0.30356496572494507),\n",
       " ('ряде', 0.30335530638694763)]"
      ]
     },
     "execution_count": 39,
     "metadata": {},
     "output_type": "execute_result"
    }
   ],
   "source": [
    "model_500_200.wv.most_similar(\n",
    "   ['пять'],\n",
    "   ['четыре'] \n",
    ")"
   ]
  },
  {
   "cell_type": "code",
   "execution_count": 41,
   "metadata": {},
   "outputs": [
    {
     "data": {
      "text/plain": [
       "[('ряде', 0.738898754119873),\n",
       " ('целом_ряде', 0.6918152570724487),\n",
       " ('во_множестве', 0.6814412474632263),\n",
       " ('десятках', 0.6229119300842285),\n",
       " ('многих_других', 0.6152180433273315),\n",
       " ('большинстве', 0.6084815263748169),\n",
       " ('нескольких_десятках', 0.5894585251808167),\n",
       " ('ряде_европейских', 0.5705533623695374),\n",
       " ('зарубежных', 0.546991229057312),\n",
       " ('европейских_американских', 0.5431177020072937)]"
      ]
     },
     "execution_count": 41,
     "metadata": {},
     "output_type": "execute_result"
    }
   ],
   "source": [
    "model_500_200.wv.most_similar(\n",
    "   ['ряде_других'],\n",
    ")"
   ]
  },
  {
   "cell_type": "code",
   "execution_count": 42,
   "metadata": {},
   "outputs": [
    {
     "data": {
      "text/plain": [
       "[('плюс_минус', 0.6705114841461182),\n",
       " ('умножается', 0.6577564477920532),\n",
       " ('каждом_шаге', 0.6283431053161621),\n",
       " ('кубик', 0.6213582754135132),\n",
       " ('умножение', 0.6134402751922607),\n",
       " ('слагаемых', 0.6132329702377319),\n",
       " ('выбираем', 0.6124820113182068),\n",
       " ('нулевой', 0.6115670204162598),\n",
       " ('предположим_что', 0.6079829335212708),\n",
       " ('выберем', 0.6062613725662231)]"
      ]
     },
     "execution_count": 42,
     "metadata": {},
     "output_type": "execute_result"
    }
   ],
   "source": [
    "model_500_200.wv.most_similar(\n",
    "   ['ноль'],\n",
    ")"
   ]
  },
  {
   "cell_type": "code",
   "execution_count": 43,
   "metadata": {},
   "outputs": [
    {
     "data": {
      "text/plain": [
       "[('ненулевой', 0.86075758934021),\n",
       " ('предположим_что', 0.8460514545440674),\n",
       " ('тензор', 0.8413795232772827),\n",
       " ('каждой_точке', 0.8396062850952148),\n",
       " ('преобразование_фурье', 0.8393461108207703),\n",
       " ('энтропии', 0.8391460180282593),\n",
       " ('общем_случае', 0.8386926054954529),\n",
       " ('xor', 0.8364247679710388),\n",
       " ('двоичной', 0.835400402545929),\n",
       " ('гамильтониан', 0.8342263102531433)]"
      ]
     },
     "execution_count": 43,
     "metadata": {},
     "output_type": "execute_result"
    }
   ],
   "source": [
    "model_500_200.wv.most_similar(\n",
    "   ['нуль'],\n",
    ")"
   ]
  },
  {
   "cell_type": "code",
   "execution_count": 44,
   "metadata": {},
   "outputs": [
    {
     "data": {
      "text/plain": [
       "[('const', 0.8707807064056396),\n",
       " ('умножение', 0.8688753843307495),\n",
       " ('конъюнкция', 0.8675186634063721),\n",
       " ('двоичной', 0.8656684756278992),\n",
       " ('открытого_текста', 0.8652310967445374),\n",
       " ('инициализация', 0.8619481325149536),\n",
       " ('шифротекста', 0.8614895939826965),\n",
       " ('операндов', 0.8508354425430298),\n",
       " ('преобразование_фурье', 0.8500239253044128),\n",
       " ('null', 0.8493994474411011)]"
      ]
     },
     "execution_count": 44,
     "metadata": {},
     "output_type": "execute_result"
    }
   ],
   "source": [
    "model_500_200.wv.most_similar(\n",
    "   ['xor'],\n",
    ")"
   ]
  },
  {
   "cell_type": "code",
   "execution_count": 45,
   "metadata": {},
   "outputs": [
    {
     "data": {
      "text/plain": [
       "[('королева', 0.5937466621398926),\n",
       " ('португалия_афонсу_африканец_король', 0.5323777794837952),\n",
       " ('императрица', 0.5213098526000977),\n",
       " ('принцесса', 0.5115206837654114),\n",
       " ('правительница', 0.5036981701850891),\n",
       " ('король_португалии', 0.5027424097061157),\n",
       " ('филипп_iv', 0.5024620294570923),\n",
       " ('дож_византийская_империя', 0.49978893995285034),\n",
       " ('генрих_ii', 0.49829164147377014),\n",
       " ('империя', 0.4957278370857239)]"
      ]
     },
     "execution_count": 45,
     "metadata": {},
     "output_type": "execute_result"
    }
   ],
   "source": [
    "model_500_200.wv.most_similar(\n",
    "    ['король', 'женщина'],\n",
    "    ['мужчина']\n",
    ")"
   ]
  },
  {
   "cell_type": "code",
   "execution_count": 46,
   "metadata": {},
   "outputs": [
    {
     "data": {
      "text/plain": [
       "[('императрица', 0.659258246421814),\n",
       " ('императора', 0.6167657971382141),\n",
       " ('вдовствующая_императрица', 0.6006978154182434),\n",
       " ('императором', 0.5763481259346008),\n",
       " ('византия', 0.5729753971099854),\n",
       " ('цыси', 0.5658361911773682),\n",
       " ('правительница', 0.5556811094284058),\n",
       " ('царица', 0.5528994798660278),\n",
       " ('византийская_империя', 0.5437092781066895),\n",
       " ('период_трех_государств', 0.5427613854408264)]"
      ]
     },
     "execution_count": 46,
     "metadata": {},
     "output_type": "execute_result"
    }
   ],
   "source": [
    "model_500_200.wv.most_similar(\n",
    "    ['император', 'женщина'],\n",
    "    ['мужчина']\n",
    ")"
   ]
  },
  {
   "cell_type": "code",
   "execution_count": null,
   "metadata": {},
   "outputs": [],
   "source": [
    "model_500_200.wv.most_similar(\n",
    "    ['король', 'женщина'],\n",
    "    ['мужчина']\n",
    ")"
   ]
  },
  {
   "cell_type": "code",
   "execution_count": null,
   "metadata": {},
   "outputs": [],
   "source": []
  },
  {
   "cell_type": "code",
   "execution_count": 51,
   "metadata": {},
   "outputs": [
    {
     "data": {
      "text/plain": [
       "dict"
      ]
     },
     "execution_count": 51,
     "metadata": {},
     "output_type": "execute_result"
    }
   ],
   "source": [
    "type(trigram_transformer.phrasegrams)"
   ]
  },
  {
   "cell_type": "code",
   "execution_count": null,
   "metadata": {},
   "outputs": [],
   "source": []
  },
  {
   "cell_type": "code",
   "execution_count": null,
   "metadata": {},
   "outputs": [],
   "source": []
  }
 ],
 "metadata": {
  "accelerator": "GPU",
  "colab": {
   "collapsed_sections": [],
   "include_colab_link": true,
   "name": "DL_chapter_7_word2vec.ipynb",
   "provenance": []
  },
  "kernelspec": {
   "display_name": "Python 3",
   "language": "python",
   "name": "python3"
  },
  "language_info": {
   "codemirror_mode": {
    "name": "ipython",
    "version": 3
   },
   "file_extension": ".py",
   "mimetype": "text/x-python",
   "name": "python",
   "nbconvert_exporter": "python",
   "pygments_lexer": "ipython3",
   "version": "3.7.4"
  }
 },
 "nbformat": 4,
 "nbformat_minor": 1
}
