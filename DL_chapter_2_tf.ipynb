{
  "nbformat": 4,
  "nbformat_minor": 0,
  "metadata": {
    "colab": {
      "name": "DL_chapter_2_tf.ipynb",
      "provenance": [],
      "collapsed_sections": [
        "jLtnqhBWWIVc",
        "OBkyCTGqI_rX",
        "Hkm0AJEWKAQX"
      ],
      "include_colab_link": true
    },
    "kernelspec": {
      "name": "python3",
      "display_name": "Python 3"
    },
    "accelerator": "GPU"
  },
  "cells": [
    {
      "cell_type": "markdown",
      "metadata": {
        "id": "view-in-github",
        "colab_type": "text"
      },
      "source": [
        "<a href=\"https://colab.research.google.com/github/LenaVolzhina/playing-with-neural-networks/blob/dl-book-chapter-2/DL_chapter_2_tf.ipynb\" target=\"_parent\"><img src=\"https://colab.research.google.com/assets/colab-badge.svg\" alt=\"Open In Colab\"/></a>"
      ]
    },
    {
      "cell_type": "code",
      "metadata": {
        "id": "H-yBy5GpFvIz",
        "colab_type": "code",
        "colab": {}
      },
      "source": [
        ""
      ],
      "execution_count": 0,
      "outputs": []
    },
    {
      "cell_type": "markdown",
      "metadata": {
        "id": "5f5j-t3bF-wp",
        "colab_type": "text"
      },
      "source": [
        "# 2.6. И о практике: введение в TensorFlow и Keras\n",
        "\n",
        "\n",
        "Среди библиотек общего назначения, которые способны строить граф вычислений и проводить автоматическое дифференцирование, долгое время бесспорным лидером была Theano. Однако в ноябре 2015 года Google выпустила (с открытым исходным кодом) библиотеку TensorFlow, предназначенную для того же самого\n",
        "\n",
        "На конец 2016 Torch считается более эффективной. Пример разделения фронтенда и бекенда: TinyFlow — это библиотека, позволяющая конструировать\n",
        "граф вычислений на TensorFlow, а обучать его на том же самом Torch."
      ]
    },
    {
      "cell_type": "markdown",
      "metadata": {
        "id": "HztpV0OXHR3q",
        "colab_type": "text"
      },
      "source": [
        "Тензор -- многомерный массив чисел\n"
      ]
    },
    {
      "cell_type": "markdown",
      "metadata": {
        "id": "jLtnqhBWWIVc",
        "colab_type": "text"
      },
      "source": [
        "## Базовое объявление переменных"
      ]
    },
    {
      "cell_type": "code",
      "metadata": {
        "id": "LG0QzFVmGByU",
        "colab_type": "code",
        "colab": {
          "base_uri": "https://localhost:8080/",
          "height": 0
        },
        "outputId": "89f3481c-bc8a-4515-dd7d-259294e1b7c3"
      },
      "source": [
        "import tensorflow as tf\n",
        "print(tf.__version__)"
      ],
      "execution_count": 1,
      "outputs": [
        {
          "output_type": "display_data",
          "data": {
            "text/html": [
              "<p style=\"color: red;\">\n",
              "The default version of TensorFlow in Colab will soon switch to TensorFlow 2.x.<br>\n",
              "We recommend you <a href=\"https://www.tensorflow.org/guide/migrate\" target=\"_blank\">upgrade</a> now \n",
              "or ensure your notebook will continue to use TensorFlow 1.x via the <code>%tensorflow_version 1.x</code> magic:\n",
              "<a href=\"https://colab.research.google.com/notebooks/tensorflow_version.ipynb\" target=\"_blank\">more info</a>.</p>\n"
            ],
            "text/plain": [
              "<IPython.core.display.HTML object>"
            ]
          },
          "metadata": {
            "tags": []
          }
        },
        {
          "output_type": "stream",
          "text": [
            "1.15.0\n"
          ],
          "name": "stdout"
        }
      ]
    },
    {
      "cell_type": "code",
      "metadata": {
        "id": "zoC2yniqGB1I",
        "colab_type": "code",
        "colab": {
          "base_uri": "https://localhost:8080/",
          "height": 0
        },
        "outputId": "004f2f5d-45c1-4d8b-e340-a0cf6cad1165"
      },
      "source": [
        "w = tf.Variable(\n",
        "    tf.random_normal([3, 2], mean=0.0, stddev=0.4), \n",
        "    name='weights'\n",
        ")\n",
        "w"
      ],
      "execution_count": 2,
      "outputs": [
        {
          "output_type": "execute_result",
          "data": {
            "text/plain": [
              "<tf.Variable 'weights:0' shape=(3, 2) dtype=float32_ref>"
            ]
          },
          "metadata": {
            "tags": []
          },
          "execution_count": 2
        }
      ]
    },
    {
      "cell_type": "code",
      "metadata": {
        "id": "8U-zNbdtGB5X",
        "colab_type": "code",
        "colab": {
          "base_uri": "https://localhost:8080/",
          "height": 0
        },
        "outputId": "956f64ea-ce63-42b0-af10-30ecf475fa5c"
      },
      "source": [
        "b = tf.Variable(tf.zeros([2]), name='biases')\n",
        "b"
      ],
      "execution_count": 4,
      "outputs": [
        {
          "output_type": "execute_result",
          "data": {
            "text/plain": [
              "<tf.Variable 'biases_1:0' shape=(2,) dtype=float32_ref>"
            ]
          },
          "metadata": {
            "tags": []
          },
          "execution_count": 4
        }
      ]
    },
    {
      "cell_type": "code",
      "metadata": {
        "id": "5mQtPe1GGB9-",
        "colab_type": "code",
        "colab": {
          "base_uri": "https://localhost:8080/",
          "height": 0
        },
        "outputId": "be64598e-7791-420b-c5f0-d732552a36db"
      },
      "source": [
        "w.device, b.device"
      ],
      "execution_count": 6,
      "outputs": [
        {
          "output_type": "execute_result",
          "data": {
            "text/plain": [
              "('', '')"
            ]
          },
          "metadata": {
            "tags": []
          },
          "execution_count": 6
        }
      ]
    },
    {
      "cell_type": "code",
      "metadata": {
        "id": "X_J-81xiGCA7",
        "colab_type": "code",
        "colab": {}
      },
      "source": [
        "with tf.device('/gpu:0'):\n",
        "  w = tf.Variable(\n",
        "      tf.random_normal([3, 2], mean=0.0, stddev=0.4), \n",
        "      name='weights'\n",
        "  )\n",
        "  b = tf.Variable(tf.zeros([2]), name='biases')"
      ],
      "execution_count": 0,
      "outputs": []
    },
    {
      "cell_type": "code",
      "metadata": {
        "id": "UU2rQaqHIF9O",
        "colab_type": "code",
        "colab": {
          "base_uri": "https://localhost:8080/",
          "height": 0
        },
        "outputId": "44c410ee-26bf-4f8e-b685-6889d6de9200"
      },
      "source": [
        "w.device, b.device"
      ],
      "execution_count": 8,
      "outputs": [
        {
          "output_type": "execute_result",
          "data": {
            "text/plain": [
              "('/device:GPU:0', '/device:GPU:0')"
            ]
          },
          "metadata": {
            "tags": []
          },
          "execution_count": 8
        }
      ]
    },
    {
      "cell_type": "code",
      "metadata": {
        "id": "IlSeGsQ4IGF7",
        "colab_type": "code",
        "colab": {}
      },
      "source": [
        "# init values\n",
        "init = tf.global_variables_initializer()"
      ],
      "execution_count": 0,
      "outputs": []
    },
    {
      "cell_type": "code",
      "metadata": {
        "id": "-5ZuToXOIGOW",
        "colab_type": "code",
        "colab": {}
      },
      "source": [
        "# how to save a session\n",
        "# saved = saver.save()\n",
        "# saver.restore('model.ckpt')"
      ],
      "execution_count": 0,
      "outputs": []
    },
    {
      "cell_type": "markdown",
      "metadata": {
        "id": "OBkyCTGqI_rX",
        "colab_type": "text"
      },
      "source": [
        "## 2 * 3 = 6\n"
      ]
    },
    {
      "cell_type": "code",
      "metadata": {
        "id": "6AGmopUKIGQ1",
        "colab_type": "code",
        "colab": {}
      },
      "source": [
        "x = tf.placeholder(tf.float32)\n",
        "y = tf.placeholder(tf.float32)\n",
        "output = tf.multiply(x, y)\n",
        "with tf.Session() as sess:\n",
        "  result = sess.run(output, feed_dict={x:2, y:3})   # interesting syntax!"
      ],
      "execution_count": 0,
      "outputs": []
    },
    {
      "cell_type": "code",
      "metadata": {
        "id": "PhOs93jjIF6r",
        "colab_type": "code",
        "colab": {
          "base_uri": "https://localhost:8080/",
          "height": 0
        },
        "outputId": "6296f1f1-63eb-4789-b575-b432319ec702"
      },
      "source": [
        "result"
      ],
      "execution_count": 23,
      "outputs": [
        {
          "output_type": "execute_result",
          "data": {
            "text/plain": [
              "6"
            ]
          },
          "metadata": {
            "tags": []
          },
          "execution_count": 23
        }
      ]
    },
    {
      "cell_type": "markdown",
      "metadata": {
        "id": "Hkm0AJEWKAQX",
        "colab_type": "text"
      },
      "source": [
        "## Суммирование"
      ]
    },
    {
      "cell_type": "code",
      "metadata": {
        "id": "KWYg7HhzJiDt",
        "colab_type": "code",
        "colab": {
          "base_uri": "https://localhost:8080/",
          "height": 0
        },
        "outputId": "5b4e38aa-088c-4cba-d709-105225835372"
      },
      "source": [
        "m = tf.Variable(\n",
        "    tf.random_normal([10, 100], mean=0.0, stddev=0.4), \n",
        "    name='matrix'\n",
        ")\n",
        "v = tf.Variable(\n",
        "    tf.random_normal([1, 100], mean=0.0, stddev=0.4), \n",
        "    name='vector'\n",
        ")\n",
        "sum_1 = m + v\n",
        "sum_1"
      ],
      "execution_count": 59,
      "outputs": [
        {
          "output_type": "execute_result",
          "data": {
            "text/plain": [
              "<tf.Tensor 'add_11:0' shape=(10, 100) dtype=float32>"
            ]
          },
          "metadata": {
            "tags": []
          },
          "execution_count": 59
        }
      ]
    },
    {
      "cell_type": "code",
      "metadata": {
        "id": "gsbEr-A7L9Ie",
        "colab_type": "code",
        "colab": {}
      },
      "source": [
        ""
      ],
      "execution_count": 0,
      "outputs": []
    },
    {
      "cell_type": "markdown",
      "metadata": {
        "id": "TxqgSM-2Ln6l",
        "colab_type": "text"
      },
      "source": [
        "Хочу изобразить результат"
      ]
    },
    {
      "cell_type": "code",
      "metadata": {
        "id": "vZYD2jXqMvxS",
        "colab_type": "code",
        "colab": {}
      },
      "source": [
        "init = tf.global_variables_initializer()\n",
        "\n",
        "sess = tf.Session()\n",
        "sess.run(init)\n",
        "\n",
        "array_m = m.eval(sess)\n",
        "array_v = v.eval(sess)\n",
        "\n",
        "result_sum_1 = sum_1.eval(session=sess)   # :O"
      ],
      "execution_count": 0,
      "outputs": []
    },
    {
      "cell_type": "code",
      "metadata": {
        "id": "wgpwnGqePF0Y",
        "colab_type": "code",
        "colab": {
          "base_uri": "https://localhost:8080/",
          "height": 0
        },
        "outputId": "8c51d7bf-53f0-42f5-f69f-22a8b684d6de"
      },
      "source": [
        "import matplotlib.pyplot as plt\n",
        "\n",
        "_, axes = plt.subplots(nrows=3, figsize=(10, 7))\n",
        "axes[0].imshow(array_m)\n",
        "axes[1].imshow(array_v)\n",
        "axes[2].imshow(result_sum_1)"
      ],
      "execution_count": 62,
      "outputs": [
        {
          "output_type": "execute_result",
          "data": {
            "text/plain": [
              "<matplotlib.image.AxesImage at 0x7fb14d938710>"
            ]
          },
          "metadata": {
            "tags": []
          },
          "execution_count": 62
        },
        {
          "output_type": "display_data",
          "data": {
            "image/png": "[encoded data removed]",
            "text/plain": [
              "<Figure size 720x504 with 3 Axes>"
            ]
          },
          "metadata": {
            "tags": []
          }
        }
      ]
    },
    {
      "cell_type": "markdown",
      "metadata": {
        "id": "YekKO0dMTL-5",
        "colab_type": "text"
      },
      "source": [
        "## Пространства переменных"
      ]
    },
    {
      "cell_type": "code",
      "metadata": {
        "id": "IsUwgMenKe7N",
        "colab_type": "code",
        "colab": {}
      },
      "source": [
        "def linear_transform(vec, shape):\n",
        "  w = tf.Variable(\n",
        "      tf.random_normal(shape, mean=0.0, stddev=1.0),\n",
        "      name='matrix'\n",
        "  )\n",
        "\n",
        "  # matrix multiplication\n",
        "  return tf.matmul(vec, w)\n",
        "\n",
        "\n",
        "# two runs will create two transform matrices\n",
        "# result1 = linear_transform(vec1, shape)\n",
        "# result2 = linear_transform(vec2, shape)"
      ],
      "execution_count": 0,
      "outputs": []
    },
    {
      "cell_type": "code",
      "metadata": {
        "id": "0I5sKex-KkC9",
        "colab_type": "code",
        "colab": {}
      },
      "source": [
        "def linear_transform_reproducible(vec, shape):\n",
        "  with tf.variable_scope('transform'):\n",
        "    w = tf.get_variable(\n",
        "        'matrix', shape,\n",
        "        initializer=tf.random_normal_initializer()\n",
        "    )\n",
        "    return tf.matmul(vec, w)\n",
        "\n",
        "vec1 = tf.Variable(tf.random_normal([1, 5]), name='vec1')\n",
        "vec2 = tf.Variable(tf.random_normal([1, 5]), name='vec2')\n",
        "shape = (5, 3)\n",
        "\n",
        "with tf.variable_scope('transform') as scope:    # ?!\n",
        "  result1 = linear_transform(vec1, shape)\n",
        "  scope.reuse_variables()\n",
        "  result2 = linear_transform(vec2, shape)\n",
        "\n",
        "init = tf.global_variables_initializer()\n",
        "sess = tf.Session()\n",
        "sess.run(init)\n",
        "\n",
        "array_1 = result1.eval(session=sess)\n",
        "array_2 = result2.eval(session=sess)\n",
        "array_3 = result2.eval(session=sess)"
      ],
      "execution_count": 0,
      "outputs": []
    },
    {
      "cell_type": "code",
      "metadata": {
        "id": "5T19UXwIUrRg",
        "colab_type": "code",
        "colab": {
          "base_uri": "https://localhost:8080/",
          "height": 34
        },
        "outputId": "6fe60515-b83e-49bb-cde7-b7029d003a83"
      },
      "source": [
        "array_1"
      ],
      "execution_count": 81,
      "outputs": [
        {
          "output_type": "execute_result",
          "data": {
            "text/plain": [
              "array([[-0.7866912 , -0.34893978, -1.4939145 ]], dtype=float32)"
            ]
          },
          "metadata": {
            "tags": []
          },
          "execution_count": 81
        }
      ]
    },
    {
      "cell_type": "code",
      "metadata": {
        "id": "MxemP2lsU2WZ",
        "colab_type": "code",
        "colab": {
          "base_uri": "https://localhost:8080/",
          "height": 34
        },
        "outputId": "ca7593cb-6f6e-437f-fb27-329942989a1f"
      },
      "source": [
        "array_2"
      ],
      "execution_count": 82,
      "outputs": [
        {
          "output_type": "execute_result",
          "data": {
            "text/plain": [
              "array([[-1.0306478, -2.7686694,  1.8277066]], dtype=float32)"
            ]
          },
          "metadata": {
            "tags": []
          },
          "execution_count": 82
        }
      ]
    },
    {
      "cell_type": "code",
      "metadata": {
        "id": "SmtxVU4iXDHV",
        "colab_type": "code",
        "colab": {
          "base_uri": "https://localhost:8080/",
          "height": 34
        },
        "outputId": "49069468-27d3-45af-cbae-696a8704c456"
      },
      "source": [
        "array_3"
      ],
      "execution_count": 83,
      "outputs": [
        {
          "output_type": "execute_result",
          "data": {
            "text/plain": [
              "array([[-1.0306478, -2.7686694,  1.8277066]], dtype=float32)"
            ]
          },
          "metadata": {
            "tags": []
          },
          "execution_count": 83
        }
      ]
    },
    {
      "cell_type": "markdown",
      "metadata": {
        "id": "GSyMDggxV3mU",
        "colab_type": "text"
      },
      "source": [
        "Эм, обещали ошибку, а её нет о_О\n",
        "\n",
        "И результат вроде бы воспроизводится"
      ]
    },
    {
      "cell_type": "markdown",
      "metadata": {
        "id": "uO_18ePXV7hS",
        "colab_type": "text"
      },
      "source": [
        "# Линейная регрессия\n",
        "\n",
        "Приближаем функцию $f(x) = kx + b$ для $k = 2$ и $b = 1$. \n",
        "\n",
        "$k$ и $b$ -- искомые параметры, которые мы хотим обучить"
      ]
    },
    {
      "cell_type": "code",
      "metadata": {
        "id": "Fis3R6LQVCsS",
        "colab_type": "code",
        "colab": {}
      },
      "source": [
        "import numpy as np\n",
        "import tensorflow as tf\n",
        "\n",
        "n_samples, batch_size, num_steps = 1000, 100, 20000\n",
        "\n",
        "X_data = np.random.uniform(1, 10, (n_samples, 1))\n",
        "y_data = 2 * X_data + 1 + np.random.normal(0, 2, (n_samples, 1))"
      ],
      "execution_count": 0,
      "outputs": []
    },
    {
      "cell_type": "code",
      "metadata": {
        "id": "12JlyGDxWxLj",
        "colab_type": "code",
        "colab": {}
      },
      "source": [
        "X = tf.placeholder(tf.float32, shape=(batch_size, 1))\n",
        "y = tf.placeholder(tf.float32, shape=(batch_size, 1))"
      ],
      "execution_count": 0,
      "outputs": []
    },
    {
      "cell_type": "code",
      "metadata": {
        "id": "ZTM2spn0W4E3",
        "colab_type": "code",
        "colab": {}
      },
      "source": [
        "with tf.variable_scope('linear-regression'):\n",
        "  k = tf.Variable(tf.random_normal((1, 1)), name='slope')\n",
        "  b = tf.Variable(tf.zeros((1,)), name='bias')\n",
        "\n",
        "y_pred = tf.matmul(X, k) + b\n",
        "loss = tf.reduce_sum((y - y_pred) ** 2)\n",
        "optimizer = tf.train.GradientDescentOptimizer(learning_rate=0.0001).minimize(loss)"
      ],
      "execution_count": 0,
      "outputs": []
    },
    {
      "cell_type": "code",
      "metadata": {
        "id": "-oXxAPe-Xd-s",
        "colab_type": "code",
        "colab": {
          "base_uri": "https://localhost:8080/",
          "height": 1000
        },
        "outputId": "665f7a38-8b45-4594-f759-b26dfe4db8d0"
      },
      "source": [
        "display_step = 100\n",
        "with tf.Session() as sess:\n",
        "  sess.run(tf.global_variables_initializer())\n",
        "  for i in range(num_steps):\n",
        "    # form mini-batch\n",
        "    indices = np.random.choice(n_samples, batch_size)\n",
        "    X_batch, y_batch = X_data[indices], y_data[indices]\n",
        "\n",
        "    # run\n",
        "    _, loss_val, k_val, b_val = sess.run(\n",
        "        [optimizer, loss, k, b],\n",
        "        feed_dict={X: X_batch, y: y_batch}\n",
        "    )\n",
        "\n",
        "    # print results\n",
        "    if (i + 1) % display_step == 0:\n",
        "      print('Epoch {}: loss = {:.8f}, k = {:.4f}, b = {:.4f}'.format(\n",
        "          i + 1, loss_val, k_val[0][0], b_val[0]\n",
        "      ))"
      ],
      "execution_count": 95,
      "outputs": [
        {
          "output_type": "stream",
          "text": [
            "Epoch 100: loss = 421.36270142, k = 2.0937, b = 0.5002\n",
            "Epoch 200: loss = 334.00466919, k = 2.0332, b = 0.6174\n",
            "Epoch 300: loss = 335.55249023, k = 2.0309, b = 0.7152\n",
            "Epoch 400: loss = 407.35946655, k = 2.0200, b = 0.7785\n",
            "Epoch 500: loss = 381.70211792, k = 2.0170, b = 0.8198\n",
            "Epoch 600: loss = 324.88937378, k = 2.0377, b = 0.8543\n",
            "Epoch 700: loss = 300.89495850, k = 1.9952, b = 0.8962\n",
            "Epoch 800: loss = 431.33248901, k = 2.0169, b = 0.9530\n",
            "Epoch 900: loss = 353.72406006, k = 2.0017, b = 0.9468\n",
            "Epoch 1000: loss = 328.98483276, k = 2.0278, b = 0.9553\n",
            "Epoch 1100: loss = 283.53033447, k = 2.0240, b = 0.9385\n",
            "Epoch 1200: loss = 321.68170166, k = 1.9751, b = 0.9298\n",
            "Epoch 1300: loss = 413.78790283, k = 1.9903, b = 0.9397\n",
            "Epoch 1400: loss = 372.58465576, k = 1.9940, b = 0.9344\n",
            "Epoch 1500: loss = 403.03509521, k = 1.9707, b = 0.9243\n",
            "Epoch 1600: loss = 454.09646606, k = 2.0246, b = 0.9217\n",
            "Epoch 1700: loss = 438.88409424, k = 1.9672, b = 0.9154\n",
            "Epoch 1800: loss = 310.84017944, k = 2.0416, b = 0.8970\n",
            "Epoch 1900: loss = 448.66156006, k = 2.0203, b = 0.9063\n",
            "Epoch 2000: loss = 353.74139404, k = 2.0167, b = 0.9041\n",
            "Epoch 2100: loss = 385.81903076, k = 2.0101, b = 0.9003\n",
            "Epoch 2200: loss = 442.23800659, k = 2.0017, b = 0.9105\n",
            "Epoch 2300: loss = 361.73297119, k = 2.0010, b = 0.9117\n",
            "Epoch 2400: loss = 356.70068359, k = 1.9966, b = 0.9100\n",
            "Epoch 2500: loss = 426.63449097, k = 2.0089, b = 0.9131\n",
            "Epoch 2600: loss = 348.88980103, k = 1.9640, b = 0.9041\n",
            "Epoch 2700: loss = 498.09469604, k = 1.9775, b = 0.9143\n",
            "Epoch 2800: loss = 305.79165649, k = 1.9980, b = 0.9131\n",
            "Epoch 2900: loss = 322.94732666, k = 2.0354, b = 0.8838\n",
            "Epoch 3000: loss = 416.35479736, k = 2.0238, b = 0.8975\n",
            "Epoch 3100: loss = 471.52197266, k = 1.9743, b = 0.9022\n",
            "Epoch 3200: loss = 436.25213623, k = 1.9912, b = 0.8980\n",
            "Epoch 3300: loss = 443.87435913, k = 1.9669, b = 0.9065\n",
            "Epoch 3400: loss = 369.05862427, k = 2.0124, b = 0.9259\n",
            "Epoch 3500: loss = 390.39602661, k = 1.9784, b = 0.9443\n",
            "Epoch 3600: loss = 358.46820068, k = 1.9643, b = 0.9490\n",
            "Epoch 3700: loss = 282.59628296, k = 1.9852, b = 0.9422\n",
            "Epoch 3800: loss = 351.91638184, k = 1.9764, b = 0.9315\n",
            "Epoch 3900: loss = 294.86303711, k = 2.0266, b = 0.9373\n",
            "Epoch 4000: loss = 403.30914307, k = 1.9901, b = 0.9268\n",
            "Epoch 4100: loss = 350.11492920, k = 2.0327, b = 0.9439\n",
            "Epoch 4200: loss = 385.39151001, k = 2.0071, b = 0.9189\n",
            "Epoch 4300: loss = 458.52407837, k = 1.9928, b = 0.9424\n",
            "Epoch 4400: loss = 344.14367676, k = 1.9767, b = 0.9350\n",
            "Epoch 4500: loss = 316.76123047, k = 2.0143, b = 0.9405\n",
            "Epoch 4600: loss = 389.98742676, k = 2.0123, b = 0.9333\n",
            "Epoch 4700: loss = 276.00778198, k = 2.0312, b = 0.9222\n",
            "Epoch 4800: loss = 291.90158081, k = 2.0161, b = 0.9046\n",
            "Epoch 4900: loss = 339.73510742, k = 1.9591, b = 0.8876\n",
            "Epoch 5000: loss = 403.86401367, k = 1.9953, b = 0.9107\n",
            "Epoch 5100: loss = 435.04757690, k = 2.0155, b = 0.9171\n",
            "Epoch 5200: loss = 369.13616943, k = 2.0205, b = 0.9146\n",
            "Epoch 5300: loss = 349.19808960, k = 2.0267, b = 0.9170\n",
            "Epoch 5400: loss = 415.51025391, k = 1.9845, b = 0.9130\n",
            "Epoch 5500: loss = 313.87976074, k = 1.9528, b = 0.9217\n",
            "Epoch 5600: loss = 453.85427856, k = 2.0226, b = 0.9367\n",
            "Epoch 5700: loss = 466.51333618, k = 1.9973, b = 0.9422\n",
            "Epoch 5800: loss = 341.27957153, k = 2.0076, b = 0.9331\n",
            "Epoch 5900: loss = 410.19961548, k = 2.0474, b = 0.9383\n",
            "Epoch 6000: loss = 385.19769287, k = 2.0107, b = 0.9295\n",
            "Epoch 6100: loss = 398.58908081, k = 2.0178, b = 0.9364\n",
            "Epoch 6200: loss = 389.62881470, k = 1.9973, b = 0.9393\n",
            "Epoch 6300: loss = 355.47680664, k = 2.0080, b = 0.9250\n",
            "Epoch 6400: loss = 423.92660522, k = 2.0171, b = 0.9430\n",
            "Epoch 6500: loss = 399.15081787, k = 1.9761, b = 0.9519\n",
            "Epoch 6600: loss = 366.48220825, k = 1.9700, b = 0.9440\n",
            "Epoch 6700: loss = 368.58377075, k = 2.0118, b = 0.9620\n",
            "Epoch 6800: loss = 340.10485840, k = 1.9936, b = 0.9462\n",
            "Epoch 6900: loss = 333.63803101, k = 2.0032, b = 0.9156\n",
            "Epoch 7000: loss = 304.10409546, k = 1.9920, b = 0.9144\n",
            "Epoch 7100: loss = 382.20071411, k = 1.9891, b = 0.9108\n",
            "Epoch 7200: loss = 423.35714722, k = 1.9919, b = 0.9060\n",
            "Epoch 7300: loss = 337.89718628, k = 2.0078, b = 0.9244\n",
            "Epoch 7400: loss = 381.78942871, k = 2.0103, b = 0.9466\n",
            "Epoch 7500: loss = 424.22360229, k = 2.0200, b = 0.9449\n",
            "Epoch 7600: loss = 320.51309204, k = 1.9859, b = 0.9277\n",
            "Epoch 7700: loss = 363.30139160, k = 2.0157, b = 0.9360\n",
            "Epoch 7800: loss = 368.18371582, k = 1.9938, b = 0.9185\n",
            "Epoch 7900: loss = 452.16162109, k = 1.9609, b = 0.9213\n",
            "Epoch 8000: loss = 414.89688110, k = 1.9534, b = 0.9384\n",
            "Epoch 8100: loss = 497.41583252, k = 2.0279, b = 0.9433\n",
            "Epoch 8200: loss = 354.87701416, k = 1.9528, b = 0.9306\n",
            "Epoch 8300: loss = 500.98516846, k = 1.9957, b = 0.9465\n",
            "Epoch 8400: loss = 351.56494141, k = 2.0023, b = 0.9249\n",
            "Epoch 8500: loss = 341.91247559, k = 1.9936, b = 0.9571\n",
            "Epoch 8600: loss = 430.64813232, k = 1.9816, b = 0.9311\n",
            "Epoch 8700: loss = 314.55493164, k = 1.9890, b = 0.9347\n",
            "Epoch 8800: loss = 385.11264038, k = 2.0257, b = 0.9432\n",
            "Epoch 8900: loss = 388.58312988, k = 1.9851, b = 0.9515\n",
            "Epoch 9000: loss = 362.00094604, k = 1.9744, b = 0.9446\n",
            "Epoch 9100: loss = 329.99288940, k = 2.0218, b = 0.9620\n",
            "Epoch 9200: loss = 331.68664551, k = 1.9679, b = 0.9504\n",
            "Epoch 9300: loss = 363.29174805, k = 2.0174, b = 0.9645\n",
            "Epoch 9400: loss = 368.81237793, k = 1.9644, b = 0.9625\n",
            "Epoch 9500: loss = 417.41796875, k = 1.9940, b = 0.9390\n",
            "Epoch 9600: loss = 401.17266846, k = 1.9767, b = 0.9167\n",
            "Epoch 9700: loss = 456.07943726, k = 1.9983, b = 0.9101\n",
            "Epoch 9800: loss = 363.69039917, k = 2.0611, b = 0.9437\n",
            "Epoch 9900: loss = 363.25689697, k = 1.9715, b = 0.9306\n",
            "Epoch 10000: loss = 324.13598633, k = 1.9887, b = 0.9450\n",
            "Epoch 10100: loss = 370.51287842, k = 1.9834, b = 0.9468\n",
            "Epoch 10200: loss = 458.76864624, k = 2.0399, b = 0.9475\n",
            "Epoch 10300: loss = 442.19235229, k = 2.0052, b = 0.9424\n",
            "Epoch 10400: loss = 407.61059570, k = 1.9811, b = 0.9353\n",
            "Epoch 10500: loss = 392.55990601, k = 1.9724, b = 0.9341\n",
            "Epoch 10600: loss = 400.31607056, k = 1.9953, b = 0.9337\n",
            "Epoch 10700: loss = 404.16271973, k = 1.9907, b = 0.9421\n",
            "Epoch 10800: loss = 520.96057129, k = 1.9315, b = 0.9504\n",
            "Epoch 10900: loss = 358.03344727, k = 2.0230, b = 0.9745\n",
            "Epoch 11000: loss = 361.35296631, k = 1.9805, b = 0.9592\n",
            "Epoch 11100: loss = 348.89450073, k = 1.9985, b = 0.9574\n",
            "Epoch 11200: loss = 444.12649536, k = 2.0487, b = 0.9809\n",
            "Epoch 11300: loss = 356.13711548, k = 1.9786, b = 0.9708\n",
            "Epoch 11400: loss = 349.43008423, k = 1.9869, b = 0.9580\n",
            "Epoch 11500: loss = 359.46087646, k = 1.9885, b = 0.9377\n",
            "Epoch 11600: loss = 398.10177612, k = 1.9751, b = 0.9446\n",
            "Epoch 11700: loss = 358.26416016, k = 2.0127, b = 0.9520\n",
            "Epoch 11800: loss = 367.85000610, k = 1.9812, b = 0.8988\n",
            "Epoch 11900: loss = 286.82952881, k = 2.0040, b = 0.9091\n",
            "Epoch 12000: loss = 430.07168579, k = 1.9967, b = 0.9306\n",
            "Epoch 12100: loss = 315.86386108, k = 2.0309, b = 0.9368\n",
            "Epoch 12200: loss = 391.69464111, k = 2.0185, b = 0.9396\n",
            "Epoch 12300: loss = 451.43283081, k = 1.9496, b = 0.9491\n",
            "Epoch 12400: loss = 269.05911255, k = 1.9928, b = 0.9461\n",
            "Epoch 12500: loss = 371.08004761, k = 2.0256, b = 0.9460\n",
            "Epoch 12600: loss = 283.30966187, k = 1.9832, b = 0.9483\n",
            "Epoch 12700: loss = 366.03610229, k = 1.9949, b = 0.9492\n",
            "Epoch 12800: loss = 436.68115234, k = 2.0341, b = 0.9527\n",
            "Epoch 12900: loss = 427.29803467, k = 1.9852, b = 0.9263\n",
            "Epoch 13000: loss = 397.94454956, k = 2.0113, b = 0.9410\n",
            "Epoch 13100: loss = 450.95156860, k = 1.9850, b = 0.9415\n",
            "Epoch 13200: loss = 417.13317871, k = 1.9715, b = 0.9223\n",
            "Epoch 13300: loss = 329.34060669, k = 1.9581, b = 0.9265\n",
            "Epoch 13400: loss = 419.36154175, k = 1.9996, b = 0.9406\n",
            "Epoch 13500: loss = 454.90512085, k = 2.0578, b = 0.9488\n",
            "Epoch 13600: loss = 349.14160156, k = 1.9724, b = 0.9184\n",
            "Epoch 13700: loss = 456.03839111, k = 2.0029, b = 0.9536\n",
            "Epoch 13800: loss = 499.70858765, k = 1.9551, b = 0.9651\n",
            "Epoch 13900: loss = 395.48065186, k = 2.0444, b = 0.9588\n",
            "Epoch 14000: loss = 384.18768311, k = 2.0230, b = 0.9360\n",
            "Epoch 14100: loss = 421.98263550, k = 2.0430, b = 0.9385\n",
            "Epoch 14200: loss = 295.94207764, k = 2.0153, b = 0.9372\n",
            "Epoch 14300: loss = 442.54055786, k = 1.9753, b = 0.9328\n",
            "Epoch 14400: loss = 438.83511353, k = 2.0087, b = 0.9685\n",
            "Epoch 14500: loss = 431.67196655, k = 2.0453, b = 0.9679\n",
            "Epoch 14600: loss = 382.90472412, k = 2.0005, b = 0.9526\n",
            "Epoch 14700: loss = 314.94073486, k = 1.9819, b = 0.9206\n",
            "Epoch 14800: loss = 317.07446289, k = 1.9898, b = 0.9548\n",
            "Epoch 14900: loss = 429.39837646, k = 1.9830, b = 0.9592\n",
            "Epoch 15000: loss = 335.48046875, k = 2.0203, b = 0.9561\n",
            "Epoch 15100: loss = 387.72653198, k = 1.9878, b = 0.9522\n",
            "Epoch 15200: loss = 359.02737427, k = 2.0541, b = 0.9428\n",
            "Epoch 15300: loss = 283.37597656, k = 1.9711, b = 0.9238\n",
            "Epoch 15400: loss = 328.44741821, k = 2.0048, b = 0.9261\n",
            "Epoch 15500: loss = 414.26184082, k = 1.9503, b = 0.9369\n",
            "Epoch 15600: loss = 469.59390259, k = 1.9878, b = 0.9528\n",
            "Epoch 15700: loss = 318.19223022, k = 2.0140, b = 0.9417\n",
            "Epoch 15800: loss = 336.42718506, k = 2.0099, b = 0.9555\n",
            "Epoch 15900: loss = 324.14437866, k = 1.9545, b = 0.9614\n",
            "Epoch 16000: loss = 333.20071411, k = 2.0233, b = 0.9553\n",
            "Epoch 16100: loss = 429.01837158, k = 1.9818, b = 0.9333\n",
            "Epoch 16200: loss = 344.83312988, k = 2.0241, b = 0.9580\n",
            "Epoch 16300: loss = 357.05923462, k = 1.9746, b = 0.9374\n",
            "Epoch 16400: loss = 409.61508179, k = 2.0063, b = 0.9270\n",
            "Epoch 16500: loss = 368.33590698, k = 2.0044, b = 0.9384\n",
            "Epoch 16600: loss = 449.15942383, k = 1.9657, b = 0.9512\n",
            "Epoch 16700: loss = 341.67086792, k = 2.0247, b = 0.9411\n",
            "Epoch 16800: loss = 361.66534424, k = 2.0171, b = 0.9204\n",
            "Epoch 16900: loss = 491.99108887, k = 2.0165, b = 0.9235\n",
            "Epoch 17000: loss = 411.20321655, k = 1.9952, b = 0.9172\n",
            "Epoch 17100: loss = 395.84765625, k = 1.9995, b = 0.9260\n",
            "Epoch 17200: loss = 337.56933594, k = 2.0088, b = 0.9048\n",
            "Epoch 17300: loss = 451.79605103, k = 2.0088, b = 0.8755\n",
            "Epoch 17400: loss = 329.09552002, k = 1.9658, b = 0.8827\n",
            "Epoch 17500: loss = 389.01025391, k = 2.0017, b = 0.9041\n",
            "Epoch 17600: loss = 462.96960449, k = 1.9751, b = 0.9198\n",
            "Epoch 17700: loss = 405.66131592, k = 1.9687, b = 0.9031\n",
            "Epoch 17800: loss = 425.47918701, k = 1.9979, b = 0.9194\n",
            "Epoch 17900: loss = 440.95532227, k = 2.0199, b = 0.9249\n",
            "Epoch 18000: loss = 497.28643799, k = 1.9658, b = 0.9001\n",
            "Epoch 18100: loss = 404.41061401, k = 2.0065, b = 0.9132\n",
            "Epoch 18200: loss = 375.25418091, k = 1.9738, b = 0.9016\n",
            "Epoch 18300: loss = 412.72805786, k = 2.0044, b = 0.9173\n",
            "Epoch 18400: loss = 387.01571655, k = 1.9702, b = 0.9067\n",
            "Epoch 18500: loss = 348.42770386, k = 1.9807, b = 0.9191\n",
            "Epoch 18600: loss = 252.64794922, k = 2.0449, b = 0.9072\n",
            "Epoch 18700: loss = 469.36807251, k = 1.9894, b = 0.9076\n",
            "Epoch 18800: loss = 370.53817749, k = 1.9845, b = 0.9076\n",
            "Epoch 18900: loss = 348.46798706, k = 2.0223, b = 0.9203\n",
            "Epoch 19000: loss = 328.32055664, k = 1.9904, b = 0.9246\n",
            "Epoch 19100: loss = 341.37240601, k = 2.0091, b = 0.9218\n",
            "Epoch 19200: loss = 430.66656494, k = 1.9552, b = 0.9180\n",
            "Epoch 19300: loss = 410.99053955, k = 2.0113, b = 0.9393\n",
            "Epoch 19400: loss = 398.64019775, k = 1.9586, b = 0.9439\n",
            "Epoch 19500: loss = 421.62261963, k = 1.9654, b = 0.9353\n",
            "Epoch 19600: loss = 404.71560669, k = 1.9911, b = 0.9374\n",
            "Epoch 19700: loss = 370.93991089, k = 1.9817, b = 0.9279\n",
            "Epoch 19800: loss = 276.73043823, k = 2.0342, b = 0.9619\n",
            "Epoch 19900: loss = 318.15243530, k = 1.9969, b = 0.9566\n",
            "Epoch 20000: loss = 327.64382935, k = 2.0316, b = 0.9527\n"
          ],
          "name": "stdout"
        }
      ]
    },
    {
      "cell_type": "markdown",
      "metadata": {
        "id": "REL21HJkbH6q",
        "colab_type": "text"
      },
      "source": [
        "# WOW! Работает!"
      ]
    },
    {
      "cell_type": "code",
      "metadata": {
        "id": "VdAXsn7nYnQ2",
        "colab_type": "code",
        "colab": {}
      },
      "source": [
        ""
      ],
      "execution_count": 0,
      "outputs": []
    }
  ]
}