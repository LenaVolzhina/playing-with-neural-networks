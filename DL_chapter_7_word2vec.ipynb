{
  "nbformat": 4,
  "nbformat_minor": 0,
  "metadata": {
    "colab": {
      "name": "DL_chapter_7_word2vec.ipynb",
      "provenance": [],
      "collapsed_sections": [],
      "include_colab_link": true
    },
    "kernelspec": {
      "name": "python3",
      "display_name": "Python 3"
    },
    "accelerator": "GPU"
  },
  "cells": [
    {
      "cell_type": "markdown",
      "metadata": {
        "id": "view-in-github",
        "colab_type": "text"
      },
      "source": [
        "<a href=\"https://colab.research.google.com/github/LenaVolzhina/playing-with-neural-networks/blob/master/DL_chapter_7_word2vec.ipynb\" target=\"_parent\"><img src=\"https://colab.research.google.com/assets/colab-badge.svg\" alt=\"Open In Colab\"/></a>"
      ]
    },
    {
      "cell_type": "markdown",
      "metadata": {
        "id": "YoJl7AAyziw7",
        "colab_type": "text"
      },
      "source": [
        "# Качаем данные с википедии"
      ]
    },
    {
      "cell_type": "code",
      "metadata": {
        "id": "dtiU0zlMxl8W",
        "colab_type": "code",
        "outputId": "21fead8c-fd5f-456a-d5e5-801eb6b0834f",
        "colab": {
          "base_uri": "https://localhost:8080/",
          "height": 204
        }
      },
      "source": [
        "# https://dumps.wikimedia.org/ruwiki/20191220/\n",
        "!wget https://dumps.wikimedia.org/ruwiki/20191220/ruwiki-20191220-pages-articles-multistream.xml.bz2"
      ],
      "execution_count": 1,
      "outputs": [
        {
          "output_type": "stream",
          "text": [
            "--2019-12-24 08:01:05--  https://dumps.wikimedia.org/ruwiki/20191220/ruwiki-20191220-pages-articles-multistream.xml.bz2\n",
            "Resolving dumps.wikimedia.org (dumps.wikimedia.org)... 208.80.154.7, 2620:0:861:1:208:80:154:7\n",
            "Connecting to dumps.wikimedia.org (dumps.wikimedia.org)|208.80.154.7|:443... connected.\n",
            "HTTP request sent, awaiting response... 200 OK\n",
            "Length: 3992310344 (3.7G) [application/octet-stream]\n",
            "Saving to: ‘ruwiki-20191220-pages-articles-multistream.xml.bz2’\n",
            "\n",
            "ruwiki-20191220-pag 100%[===================>]   3.72G  4.95MB/s    in 12m 48s \n",
            "\n",
            "2019-12-24 08:13:54 (4.96 MB/s) - ‘ruwiki-20191220-pages-articles-multistream.xml.bz2’ saved [3992310344/3992310344]\n",
            "\n"
          ],
          "name": "stdout"
        }
      ]
    },
    {
      "cell_type": "code",
      "metadata": {
        "id": "zwa5fBr36JvH",
        "colab_type": "code",
        "colab": {}
      },
      "source": [
        "from datetime import datetime"
      ],
      "execution_count": 0,
      "outputs": []
    },
    {
      "cell_type": "markdown",
      "metadata": {
        "id": "R4n1TsOozIBE",
        "colab_type": "text"
      },
      "source": [
        "# Загрузка и предобработка данных\n",
        "\n",
        "*Токенизация*: разбиение потока символов на слова (+ очистка от лишних символов)\n",
        "\n",
        "*Лемматизация*: приведение слов к начальным формам. Мы не будем делать, т.к. во-первых хотим посмотреть на всякие эффекты, а во-вторых, у нас и так достаточно данных"
      ]
    },
    {
      "cell_type": "code",
      "metadata": {
        "id": "8TYyxg6Svtr_",
        "colab_type": "code",
        "colab": {}
      },
      "source": [
        "from gensim.corpora.wikicorpus import WikiCorpus\n",
        "\n",
        "wiki = WikiCorpus('ruwiki-20191220-pages-articles-multistream.xml.bz2', dictionary=False)"
      ],
      "execution_count": 0,
      "outputs": []
    },
    {
      "cell_type": "markdown",
      "metadata": {
        "id": "joBSp1VozrCo",
        "colab_type": "text"
      },
      "source": [
        "Данные не читаются с диска в память, а благодаря dictionary=False не строится и словарь\n",
        "\n",
        "*Биграмма* — это пара слов `(w1,w2)`, которые вместе встречаются аномально часто, то есть совместная вероятность их появления `p(w1,w2)`\n",
        "в тексте существенно выше, чем `p(w1)p(w2)`\n",
        "\n",
        "Есть разные алгоритмы выделения биграмм, но в Gensim уже есть реализация"
      ]
    },
    {
      "cell_type": "code",
      "metadata": {
        "id": "djk7_3dJZUUA",
        "colab_type": "code",
        "colab": {}
      },
      "source": [
        "def get_texts(step=100):\n",
        "  # get every [step]th text\n",
        "  for i, text in enumerate(wiki.get_texts()):\n",
        "    if i % 100 == 0:\n",
        "      yield text"
      ],
      "execution_count": 0,
      "outputs": []
    },
    {
      "cell_type": "code",
      "metadata": {
        "id": "CPNDdCVv0NRu",
        "colab_type": "code",
        "outputId": "396e20f0-2492-4856-f3dc-fcf9f11a2a21",
        "colab": {
          "base_uri": "https://localhost:8080/",
          "height": 51
        }
      },
      "source": [
        "from gensim.models.phrases import Phrases,Phraser\n",
        "\n",
        "print(datetime.now())\n",
        "bigram = Phrases(get_texts())\n",
        "bigram_transformer = Phraser(bigram)\n",
        "print(datetime.now())"
      ],
      "execution_count": 5,
      "outputs": [
        {
          "output_type": "stream",
          "text": [
            "2019-12-24 08:20:47.444497\n",
            "2019-12-24 10:00:46.770970\n"
          ],
          "name": "stdout"
        }
      ]
    },
    {
      "cell_type": "code",
      "metadata": {
        "id": "MpRNqvYR0Nra",
        "colab_type": "code",
        "colab": {}
      },
      "source": [
        "# генератор биграм\n",
        "\n",
        "def text_generator_bigram():\n",
        "  for text in get_texts():\n",
        "    yield bigram_transformer[ [ word for word in text ] ]   # .decode('utf-8')"
      ],
      "execution_count": 0,
      "outputs": []
    },
    {
      "cell_type": "code",
      "metadata": {
        "id": "1HWknjFQ0Xnn",
        "colab_type": "code",
        "outputId": "d1b49c69-26b8-4146-f5f5-8193cb08d080",
        "colab": {
          "base_uri": "https://localhost:8080/",
          "height": 34
        }
      },
      "source": [
        "# генератор триграм\n",
        "\n",
        "print(datetime.now())\n",
        "trigram = Phrases(text_generator_bigram())\n",
        "trigram_transformer = Phraser(trigram)\n",
        "print(datetime.now())\n",
        "\n",
        "def text_generator_trigram():\n",
        "  for text in get_texts():\n",
        "    yield trigram_transformer[ bigram_transformer[ [ word for word in text ] ] ]   # .decode('utf-8')"
      ],
      "execution_count": 0,
      "outputs": [
        {
          "output_type": "stream",
          "text": [
            "2019-12-24 11:46:40.393473\n"
          ],
          "name": "stdout"
        }
      ]
    },
    {
      "cell_type": "markdown",
      "metadata": {
        "id": "AgGknRcN1AfA",
        "colab_type": "text"
      },
      "source": [
        "# Обучаем word2vec на последовательности триграмм"
      ]
    },
    {
      "cell_type": "code",
      "metadata": {
        "id": "AwPqugTDAEd9",
        "colab_type": "code",
        "colab": {}
      },
      "source": [
        "print(datetime.now())\n",
        "total_examples = 0\n",
        "for trigram in text_generator_trigram():\n",
        "  total_examples += 1\n",
        "print(datetime.now())"
      ],
      "execution_count": 0,
      "outputs": []
    },
    {
      "cell_type": "code",
      "metadata": {
        "id": "VDHdLY_F0Xkw",
        "colab_type": "code",
        "colab": {}
      },
      "source": [
        "from gensim.models.word2vec import Word2Vec\n",
        "\n",
        "model_100 = Word2Vec(size=100, window=7, min_count=10, workers=10)\n",
        "print(datetime.now())\n",
        "model_100.build_vocab( text_generator_trigram() )\n",
        "print(datetime.now())\n",
        "model_100.train( text_generator_trigram(), total_examples=total_examples )\n",
        "print(datetime.now())"
      ],
      "execution_count": 0,
      "outputs": []
    },
    {
      "cell_type": "markdown",
      "metadata": {
        "id": "DvBbQTue1Xct",
        "colab_type": "text"
      },
      "source": [
        "* size -- размерность вектора представления\n",
        "* window -- размер окна локального контекста\n",
        "* min_count -- минимальная частота встречаемости, чтобы мы рассматривали слово\n",
        "* workers -- параллелизация"
      ]
    },
    {
      "cell_type": "code",
      "metadata": {
        "id": "sQHh486ABsoz",
        "colab_type": "code",
        "colab": {}
      },
      "source": [
        "model_100.wv.most_similar(\n",
        "  ['математик', 'женщина'],\n",
        "  ['мужчина']\n",
        ")"
      ],
      "execution_count": 0,
      "outputs": []
    },
    {
      "cell_type": "code",
      "metadata": {
        "id": "SuJQ5FMpBsjJ",
        "colab_type": "code",
        "colab": {}
      },
      "source": [
        "model_100.wv.most_similar(\n",
        "  ['актёр', 'женщина'],\n",
        "  ['мужчина']\n",
        ")"
      ],
      "execution_count": 0,
      "outputs": []
    },
    {
      "cell_type": "code",
      "metadata": {
        "id": "Nw8YQOpXBsXy",
        "colab_type": "code",
        "colab": {}
      },
      "source": [
        "model_100.wv.most_similar(\n",
        "  ['стюардесса', 'мужчина'],\n",
        "  ['женщина']\n",
        ")"
      ],
      "execution_count": 0,
      "outputs": []
    },
    {
      "cell_type": "code",
      "metadata": {
        "id": "AtXoUVsh0Xhu",
        "colab_type": "code",
        "colab": {}
      },
      "source": [
        "from gensim.models.word2vec import Word2Vec\n",
        "\n",
        "print(datetime.now())\n",
        "model_500 = Word2Vec(size=500, window=7, min_count=10, workers=10)\n",
        "print(datetime.now())\n",
        "model_500.build_vocab( text_generator_trigram() )\n",
        "print(datetime.now())\n",
        "model_500.train( text_generator_trigram(), total_examples=total_examples )\n",
        "print(datetime.now())"
      ],
      "execution_count": 0,
      "outputs": []
    },
    {
      "cell_type": "code",
      "metadata": {
        "id": "_ULQKs4a0Xei",
        "colab_type": "code",
        "colab": {}
      },
      "source": [
        "!sleep infinity"
      ],
      "execution_count": 0,
      "outputs": []
    },
    {
      "cell_type": "code",
      "metadata": {
        "id": "rIbSOgiM0Xbp",
        "colab_type": "code",
        "colab": {}
      },
      "source": [
        ""
      ],
      "execution_count": 0,
      "outputs": []
    },
    {
      "cell_type": "code",
      "metadata": {
        "id": "v6oAU_p_0XZJ",
        "colab_type": "code",
        "colab": {}
      },
      "source": [
        ""
      ],
      "execution_count": 0,
      "outputs": []
    },
    {
      "cell_type": "code",
      "metadata": {
        "id": "-6w1jbs50XWQ",
        "colab_type": "code",
        "colab": {}
      },
      "source": [
        ""
      ],
      "execution_count": 0,
      "outputs": []
    },
    {
      "cell_type": "code",
      "metadata": {
        "id": "KJe-kvva0XPD",
        "colab_type": "code",
        "colab": {}
      },
      "source": [
        ""
      ],
      "execution_count": 0,
      "outputs": []
    }
  ]
}