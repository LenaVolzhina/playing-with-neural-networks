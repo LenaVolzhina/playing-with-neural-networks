{
 "cells": [
  {
   "cell_type": "markdown",
   "metadata": {},
   "source": [
    "# Установка gensim на воркер\n",
    "\n",
    "Установка conda:\n",
    "* `https://repo.anaconda.com/archive/Anaconda3-2019.10-Linux-x86_64.sh`\n",
    "* `chmod +x Anaconda3-2019.10-Linux-x86_64.sh`\n",
    "* `./Anaconda3-2019.10-Linux-x86_64.sh`  (если случайно запустить с sudo, то потом [поменять владельца](https://github.com/conda/conda/issues/7267#issuecomment-498651734))\n",
    "* отключить авто-init: `conda config --set auto_activate_base false`\n",
    "\n",
    "Gensim:\n",
    "* `conda install gensim`\n",
    "\n",
    "Jupyter:\n",
    "* `conda install ipykernel`\n",
    "* запуск сервера: `jupyter notebook --no-browser --port=8888 --ip='::'`\n",
    "* выбрать кернел\n",
    "\n"
   ]
  },
  {
   "cell_type": "code",
   "execution_count": 1,
   "metadata": {},
   "outputs": [],
   "source": [
    "import gensim"
   ]
  },
  {
   "cell_type": "markdown",
   "metadata": {
    "colab_type": "text",
    "id": "YoJl7AAyziw7"
   },
   "source": [
    "# Качаем данные с википедии"
   ]
  },
  {
   "cell_type": "code",
   "execution_count": 2,
   "metadata": {
    "colab": {
     "base_uri": "https://localhost:8080/",
     "height": 204
    },
    "colab_type": "code",
    "id": "dtiU0zlMxl8W",
    "outputId": "21fead8c-fd5f-456a-d5e5-801eb6b0834f"
   },
   "outputs": [
    {
     "name": "stdout",
     "output_type": "stream",
     "text": [
      "--2019-12-25 12:51:41--  https://dumps.wikimedia.org/ruwiki/20191220/ruwiki-20191220-pages-articles-multistream.xml.bz2\n",
      "Resolving dumps.wikimedia.org (dumps.wikimedia.org)... 2620:0:861:1:208:80:154:7\n",
      "Connecting to dumps.wikimedia.org (dumps.wikimedia.org)|2620:0:861:1:208:80:154:7|:443... connected.\n",
      "HTTP request sent, awaiting response... 200 OK\n",
      "Length: 3992310344 (3,7G) [application/octet-stream]\n",
      "Saving to: `ruwiki-20191220-pages-articles-multistream.xml.bz2'\n",
      "\n",
      "100%[====================================>] 3 992 310 344 4,88M/s   in 12m 50s \n",
      "\n",
      "2019-12-25 13:04:33 (4,94 MB/s) - `ruwiki-20191220-pages-articles-multistream.xml.bz2' saved [3992310344/3992310344]\n",
      "\n"
     ]
    }
   ],
   "source": [
    "# https://dumps.wikimedia.org/ruwiki/20191220/\n",
    "!wget https://dumps.wikimedia.org/ruwiki/20191220/ruwiki-20191220-pages-articles-multistream.xml.bz2"
   ]
  },
  {
   "cell_type": "code",
   "execution_count": 1,
   "metadata": {
    "colab": {},
    "colab_type": "code",
    "id": "zwa5fBr36JvH"
   },
   "outputs": [],
   "source": [
    "from datetime import datetime\n",
    "\n",
    "log_filename = 'DL_chapter_7_word2vec_in_memory.log'\n",
    "\n",
    "def log(msg):\n",
    "    msg = '[{}] {}'.format(datetime.now(), msg)\n",
    "    print(msg)\n",
    "    with open(log_filename, 'a') as fout:\n",
    "        fout.write(msg + '\\n')"
   ]
  },
  {
   "cell_type": "markdown",
   "metadata": {
    "colab_type": "text",
    "id": "R4n1TsOozIBE"
   },
   "source": [
    "# Загрузка и предобработка данных\n",
    "\n",
    "*Токенизация*: разбиение потока символов на слова (+ очистка от лишних символов)\n",
    "\n",
    "*Лемматизация*: приведение слов к начальным формам. Мы не будем делать, т.к. во-первых хотим посмотреть на всякие эффекты, а во-вторых, у нас и так достаточно данных"
   ]
  },
  {
   "cell_type": "code",
   "execution_count": 2,
   "metadata": {
    "colab": {},
    "colab_type": "code",
    "id": "8TYyxg6Svtr_"
   },
   "outputs": [],
   "source": [
    "from gensim.corpora.wikicorpus import WikiCorpus\n",
    "\n",
    "wiki = WikiCorpus('ruwiki-20191220-pages-articles-multistream.xml.bz2', dictionary=False)"
   ]
  },
  {
   "cell_type": "markdown",
   "metadata": {
    "colab_type": "text",
    "id": "joBSp1VozrCo"
   },
   "source": [
    "Данные не читаются с диска в память, а благодаря dictionary=False не строится и словарь\n",
    "\n",
    "*Биграмма* — это пара слов `(w1,w2)`, которые вместе встречаются аномально часто, то есть совместная вероятность их появления `p(w1,w2)`\n",
    "в тексте существенно выше, чем `p(w1)p(w2)`\n",
    "\n",
    "Есть разные алгоритмы выделения биграмм, но в Gensim уже есть реализация"
   ]
  },
  {
   "cell_type": "code",
   "execution_count": 3,
   "metadata": {
    "colab": {},
    "colab_type": "code",
    "id": "djk7_3dJZUUA"
   },
   "outputs": [
    {
     "name": "stdout",
     "output_type": "stream",
     "text": [
      "[2019-12-25 16:12:57.572576] Started loading texts\n",
      "[2019-12-25 16:41:07.762148] Started loading texts\n"
     ]
    }
   ],
   "source": [
    "def get_texts_step(step=100):\n",
    "    # get every [step]th text\n",
    "    for i, text in enumerate(wiki.get_texts()):\n",
    "        if i % step == 0:\n",
    "            yield text\n",
    "\n",
    "log(\"Started loading texts\")\n",
    "all_texts = list(wiki.get_texts())\n",
    "log(\"Started loading texts\")\n",
    "\n",
    "\n",
    "def get_texts():\n",
    "    # get texts from memory\n",
    "    for text in all_texts:\n",
    "        yield text"
   ]
  },
  {
   "cell_type": "code",
   "execution_count": 4,
   "metadata": {
    "colab": {
     "base_uri": "https://localhost:8080/",
     "height": 51
    },
    "colab_type": "code",
    "id": "CPNDdCVv0NRu",
    "outputId": "396e20f0-2492-4856-f3dc-fcf9f11a2a21"
   },
   "outputs": [
    {
     "name": "stdout",
     "output_type": "stream",
     "text": [
      "[2019-12-25 16:57:19.300192] Started building bigrams\n",
      "[2019-12-25 17:31:09.662020] Finished building bigrams\n"
     ]
    }
   ],
   "source": [
    "from gensim.models.phrases import Phrases, Phraser\n",
    "\n",
    "# генератор биграм\n",
    "\n",
    "log(\"Started building bigrams\")\n",
    "bigram = Phrases(get_texts())\n",
    "bigram_transformer = Phraser(bigram)\n",
    "log(\"Finished building bigrams\")\n",
    "\n",
    "\n",
    "def text_generator_bigram():\n",
    "    for text in get_texts():\n",
    "        yield bigram_transformer[ [ word for word in text ] ]   # .decode('utf-8')"
   ]
  },
  {
   "cell_type": "code",
   "execution_count": 5,
   "metadata": {
    "colab": {
     "base_uri": "https://localhost:8080/",
     "height": 34
    },
    "colab_type": "code",
    "id": "1HWknjFQ0Xnn",
    "outputId": "d1b49c69-26b8-4146-f5f5-8193cb08d080"
   },
   "outputs": [
    {
     "name": "stdout",
     "output_type": "stream",
     "text": [
      "[2019-12-25 17:31:09.669413] Started building trigrams\n",
      "[2019-12-25 18:29:54.008252] Finished building trigrams\n"
     ]
    }
   ],
   "source": [
    "# генератор триграм\n",
    "\n",
    "log(\"Started building trigrams\")\n",
    "trigram = Phrases(text_generator_bigram())\n",
    "trigram_transformer = Phraser(trigram)\n",
    "log(\"Finished building trigrams\")\n",
    "\n",
    "def text_generator_trigram():\n",
    "    for text in get_texts():\n",
    "        yield trigram_transformer[ bigram_transformer[ [ word for word in text ] ] ]   # .decode('utf-8')"
   ]
  },
  {
   "cell_type": "markdown",
   "metadata": {
    "colab_type": "text",
    "id": "AgGknRcN1AfA"
   },
   "source": [
    "# Обучаем word2vec на последовательности триграмм"
   ]
  },
  {
   "cell_type": "markdown",
   "metadata": {},
   "source": [
    "## Обучаю модель size=100, epochs=25"
   ]
  },
  {
   "cell_type": "code",
   "execution_count": 6,
   "metadata": {
    "colab": {},
    "colab_type": "code",
    "id": "AwPqugTDAEd9"
   },
   "outputs": [
    {
     "name": "stdout",
     "output_type": "stream",
     "text": [
      "[2019-12-25 18:29:54.014886] Started counting examples\n",
      "[2019-12-25 19:26:06.959298] Finished counting examples, result: 1331252\n"
     ]
    }
   ],
   "source": [
    "log(\"Started counting examples\")\n",
    "total_examples = 0\n",
    "for trigram in text_generator_trigram():\n",
    "    total_examples += 1\n",
    "log(\"Finished counting examples, result: {}\".format(total_examples))"
   ]
  },
  {
   "cell_type": "code",
   "execution_count": 7,
   "metadata": {
    "colab": {},
    "colab_type": "code",
    "id": "VDHdLY_F0Xkw"
   },
   "outputs": [
    {
     "name": "stdout",
     "output_type": "stream",
     "text": [
      "[2019-12-25 19:26:06.966888] Started building vocab\n",
      "[2019-12-25 20:37:31.822850] Finished building vocab\n"
     ]
    }
   ],
   "source": [
    "from gensim.models.word2vec import Word2Vec\n",
    "\n",
    "model_100 = Word2Vec(size=100, window=7, min_count=10, workers=32)\n",
    "\n",
    "log(\"Started building vocab\")\n",
    "model_100.build_vocab( text_generator_trigram() )\n",
    "log(\"Finished building vocab\")"
   ]
  },
  {
   "cell_type": "code",
   "execution_count": 8,
   "metadata": {},
   "outputs": [
    {
     "name": "stdout",
     "output_type": "stream",
     "text": [
      "[2019-12-25 20:37:31.828769] Started training\n",
      "[2019-12-25 21:39:03.319412] Finished training\n"
     ]
    }
   ],
   "source": [
    "log(\"Started training\")\n",
    "model_100.train( text_generator_trigram(), total_examples=total_examples, epochs=25 )\n",
    "log(\"Finished training\")"
   ]
  },
  {
   "cell_type": "code",
   "execution_count": 9,
   "metadata": {},
   "outputs": [],
   "source": [
    "model_100.save('DL_chapter_7_word2vec_model_size_100_percent_100_epochs_25')"
   ]
  },
  {
   "cell_type": "markdown",
   "metadata": {
    "colab_type": "text",
    "id": "DvBbQTue1Xct"
   },
   "source": [
    "* size -- размерность вектора представления\n",
    "* window -- размер окна локального контекста\n",
    "* min_count -- минимальная частота встречаемости, чтобы мы рассматривали слово\n",
    "* workers -- параллелизация"
   ]
  },
  {
   "cell_type": "markdown",
   "metadata": {},
   "source": [
    "## Обучаю модель size=500, epochs=25"
   ]
  },
  {
   "cell_type": "code",
   "execution_count": 10,
   "metadata": {
    "colab": {},
    "colab_type": "code",
    "id": "VDHdLY_F0Xkw"
   },
   "outputs": [
    {
     "name": "stdout",
     "output_type": "stream",
     "text": [
      "[2019-12-25 21:39:12.828759] Started building vocab\n",
      "[2019-12-25 22:48:20.032481] Finished building vocab\n"
     ]
    }
   ],
   "source": [
    "model_500 = Word2Vec(size=500, window=7, min_count=10, workers=32)\n",
    "\n",
    "log(\"Started building vocab\")\n",
    "model_500.build_vocab( text_generator_trigram() )\n",
    "log(\"Finished building vocab\")"
   ]
  },
  {
   "cell_type": "code",
   "execution_count": 11,
   "metadata": {},
   "outputs": [
    {
     "name": "stdout",
     "output_type": "stream",
     "text": [
      "[2019-12-25 22:48:20.039712] Started training\n",
      "[2019-12-25 23:50:28.923686] Finished training\n"
     ]
    }
   ],
   "source": [
    "log(\"Started training\")\n",
    "model_500.train( text_generator_trigram(), total_examples=total_examples, epochs=25 )\n",
    "log(\"Finished training\")"
   ]
  },
  {
   "cell_type": "code",
   "execution_count": 12,
   "metadata": {},
   "outputs": [],
   "source": [
    "model_500.save('DL_chapter_7_word2vec_model_size_500_percent_100_epochs_25')"
   ]
  },
  {
   "cell_type": "markdown",
   "metadata": {},
   "source": [
    "## Обучаю модель size=500, epochs=200"
   ]
  },
  {
   "cell_type": "code",
   "execution_count": 13,
   "metadata": {
    "colab": {},
    "colab_type": "code",
    "id": "VDHdLY_F0Xkw"
   },
   "outputs": [
    {
     "name": "stdout",
     "output_type": "stream",
     "text": [
      "[2019-12-25 23:50:49.341133] Started building vocab\n",
      "[2019-12-26 00:59:23.792330] Finished building vocab\n"
     ]
    }
   ],
   "source": [
    "model_500_200 = Word2Vec(size=500, window=7, min_count=10, workers=32)\n",
    "\n",
    "log(\"Started building vocab\")\n",
    "model_500_200.build_vocab( text_generator_trigram() )\n",
    "log(\"Finished building vocab\")"
   ]
  },
  {
   "cell_type": "code",
   "execution_count": 14,
   "metadata": {},
   "outputs": [
    {
     "name": "stdout",
     "output_type": "stream",
     "text": [
      "[2019-12-26 00:59:23.830482] Started training\n",
      "[2019-12-26 02:01:54.071193] Finished training\n"
     ]
    }
   ],
   "source": [
    "log(\"Started training\")\n",
    "model_500_200.train( text_generator_trigram(), total_examples=total_examples, epochs=200 )\n",
    "log(\"Finished training\")"
   ]
  },
  {
   "cell_type": "code",
   "execution_count": 15,
   "metadata": {},
   "outputs": [],
   "source": [
    "model_500_200.save('DL_chapter_7_word2vec_model_size_500_percent_100_epochs_200')"
   ]
  },
  {
   "cell_type": "code",
   "execution_count": null,
   "metadata": {
    "colab": {},
    "colab_type": "code",
    "id": "AtXoUVsh0Xhu"
   },
   "outputs": [],
   "source": []
  },
  {
   "cell_type": "code",
   "execution_count": 16,
   "metadata": {},
   "outputs": [
    {
     "data": {
      "text/plain": [
       "[('актриса', 0.6711472868919373),\n",
       " ('ведущая_актриса', 0.5662055611610413),\n",
       " ('актер', 0.5578432679176331),\n",
       " ('сценарист_режиссёр', 0.5533250570297241),\n",
       " ('киноактриса', 0.5437122583389282),\n",
       " ('благодаря_ролям', 0.5435642600059509),\n",
       " ('снимавшаяся', 0.5400126576423645),\n",
       " ('балерина', 0.5322019457817078),\n",
       " ('театра_кино', 0.527100682258606),\n",
       " ('танцовщица', 0.5250095725059509)]"
      ]
     },
     "execution_count": 16,
     "metadata": {},
     "output_type": "execute_result"
    }
   ],
   "source": [
    "model_500_200.wv.most_similar(\n",
    "  ['актёр', 'женщина'],\n",
    "  ['мужчина']\n",
    ")"
   ]
  },
  {
   "cell_type": "code",
   "execution_count": 17,
   "metadata": {
    "colab": {},
    "colab_type": "code",
    "id": "_ULQKs4a0Xei"
   },
   "outputs": [
    {
     "data": {
      "text/plain": [
       "[('доктор_философии', 0.6313427686691284),\n",
       " ('итальянский_физик', 0.6195719242095947),\n",
       " ('учёная', 0.6180987358093262),\n",
       " ('немецкий_философ', 0.6100102663040161),\n",
       " ('немецкий_математик', 0.6081817746162415),\n",
       " ('филолог', 0.6068433523178101),\n",
       " ('физиолог', 0.6051205396652222),\n",
       " ('лингвист', 0.6050077676773071),\n",
       " ('доктор_филологических_наук', 0.6020523309707642),\n",
       " ('американский_математик', 0.5991174578666687)]"
      ]
     },
     "execution_count": 17,
     "metadata": {},
     "output_type": "execute_result"
    }
   ],
   "source": [
    "model_500_200.wv.most_similar(\n",
    "  ['математик', 'женщина'],\n",
    "  ['мужчина']\n",
    ")"
   ]
  },
  {
   "cell_type": "code",
   "execution_count": 0,
   "metadata": {
    "colab": {},
    "colab_type": "code",
    "id": "rIbSOgiM0Xbp"
   },
   "outputs": [],
   "source": []
  },
  {
   "cell_type": "code",
   "execution_count": 0,
   "metadata": {
    "colab": {},
    "colab_type": "code",
    "id": "v6oAU_p_0XZJ"
   },
   "outputs": [],
   "source": []
  },
  {
   "cell_type": "code",
   "execution_count": 0,
   "metadata": {
    "colab": {},
    "colab_type": "code",
    "id": "-6w1jbs50XWQ"
   },
   "outputs": [],
   "source": []
  },
  {
   "cell_type": "code",
   "execution_count": 0,
   "metadata": {
    "colab": {},
    "colab_type": "code",
    "id": "KJe-kvva0XPD"
   },
   "outputs": [],
   "source": []
  }
 ],
 "metadata": {
  "accelerator": "GPU",
  "colab": {
   "collapsed_sections": [],
   "include_colab_link": true,
   "name": "DL_chapter_7_word2vec.ipynb",
   "provenance": []
  },
  "kernelspec": {
   "display_name": "Python 3",
   "language": "python",
   "name": "python3"
  },
  "language_info": {
   "codemirror_mode": {
    "name": "ipython",
    "version": 3
   },
   "file_extension": ".py",
   "mimetype": "text/x-python",
   "name": "python",
   "nbconvert_exporter": "python",
   "pygments_lexer": "ipython3",
   "version": "3.7.4"
  }
 },
 "nbformat": 4,
 "nbformat_minor": 1
}
